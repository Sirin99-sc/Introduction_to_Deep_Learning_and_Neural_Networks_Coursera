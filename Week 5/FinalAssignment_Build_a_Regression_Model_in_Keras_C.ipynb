{
  "nbformat": 4,
  "nbformat_minor": 0,
  "metadata": {
    "colab": {
      "provenance": [],
      "authorship_tag": "ABX9TyMxJWO5cj46rv6wr9b3ORXh",
      "include_colab_link": true
    },
    "kernelspec": {
      "name": "python3",
      "display_name": "Python 3"
    },
    "language_info": {
      "name": "python"
    }
  },
  "cells": [
    {
      "cell_type": "markdown",
      "metadata": {
        "id": "view-in-github",
        "colab_type": "text"
      },
      "source": [
        "<a href=\"https://colab.research.google.com/github/Sirin99-sc/Introduction_to_Deep_Learning_and_Neural_Networks_Coursera/blob/main/Week%205/FinalAssignment_Build_a_Regression_Model_in_Keras_C.ipynb\" target=\"_parent\"><img src=\"https://colab.research.google.com/assets/colab-badge.svg\" alt=\"Open In Colab\"/></a>"
      ]
    },
    {
      "cell_type": "markdown",
      "source": [
        "# **Regression Models With Keras**"
      ],
      "metadata": {
        "id": "Nd6p4UzfQ4vn"
      }
    },
    {
      "cell_type": "markdown",
      "source": [
        "## **Download and Clean Dataset**"
      ],
      "metadata": {
        "id": "2DYjRvrVRHo-"
      }
    },
    {
      "cell_type": "markdown",
      "source": [
        "Let's start by importing the pandas and the Numpy libraries."
      ],
      "metadata": {
        "id": "1l-b6zSvRLtd"
      }
    },
    {
      "cell_type": "code",
      "execution_count": null,
      "metadata": {
        "id": "eyjc5F88Q11E"
      },
      "outputs": [],
      "source": [
        "import pandas as pd\n",
        "import numpy as np"
      ]
    },
    {
      "cell_type": "markdown",
      "source": [
        "We will be using the dataset provided in the assignment\n",
        "\n",
        "**The dataset is about the compressive strength of different samples of concrete based on the volumes of the different ingredients that were used to make them. Ingredients include:**\n",
        "\n",
        "  **1. Cement**\n",
        "\n",
        "  **2. Blast Furnace Slag**\n",
        "\n",
        "**3. Fly Ash**\n",
        "\n",
        "**4. Water**\n",
        "\n",
        "**5. Superplasticizer**\n",
        "\n",
        "**6. Coarse Aggregate**\n",
        "\n",
        "**7. Fine Aggregate**\n",
        "\n",
        "Let's download the data and read it into a *pandas* dataframe.\n",
        "\n"
      ],
      "metadata": {
        "id": "ss9iFr10RQ1r"
      }
    },
    {
      "cell_type": "code",
      "source": [
        "concrete_data = pd.read_csv('https://s3-api.us-geo.objectstorage.softlayer.net/cf-courses-data/CognitiveClass/DL0101EN/labs/data/concrete_data.csv')\n",
        "concrete_data.head()"
      ],
      "metadata": {
        "colab": {
          "base_uri": "https://localhost:8080/",
          "height": 250
        },
        "id": "JtfSmS4ORagJ",
        "outputId": "9a0197d7-6d3d-4c94-adc3-40e9da30be93"
      },
      "execution_count": null,
      "outputs": [
        {
          "output_type": "execute_result",
          "data": {
            "text/plain": [
              "   Cement  Blast Furnace Slag  Fly Ash  Water  Superplasticizer  \\\n",
              "0   540.0                 0.0      0.0  162.0               2.5   \n",
              "1   540.0                 0.0      0.0  162.0               2.5   \n",
              "2   332.5               142.5      0.0  228.0               0.0   \n",
              "3   332.5               142.5      0.0  228.0               0.0   \n",
              "4   198.6               132.4      0.0  192.0               0.0   \n",
              "\n",
              "   Coarse Aggregate  Fine Aggregate  Age  Strength  \n",
              "0            1040.0           676.0   28     79.99  \n",
              "1            1055.0           676.0   28     61.89  \n",
              "2             932.0           594.0  270     40.27  \n",
              "3             932.0           594.0  365     41.05  \n",
              "4             978.4           825.5  360     44.30  "
            ],
            "text/html": [
              "\n",
              "\n",
              "  <div id=\"df-32c2a61e-be41-4875-95cb-c20f0551e69d\">\n",
              "    <div class=\"colab-df-container\">\n",
              "      <div>\n",
              "<style scoped>\n",
              "    .dataframe tbody tr th:only-of-type {\n",
              "        vertical-align: middle;\n",
              "    }\n",
              "\n",
              "    .dataframe tbody tr th {\n",
              "        vertical-align: top;\n",
              "    }\n",
              "\n",
              "    .dataframe thead th {\n",
              "        text-align: right;\n",
              "    }\n",
              "</style>\n",
              "<table border=\"1\" class=\"dataframe\">\n",
              "  <thead>\n",
              "    <tr style=\"text-align: right;\">\n",
              "      <th></th>\n",
              "      <th>Cement</th>\n",
              "      <th>Blast Furnace Slag</th>\n",
              "      <th>Fly Ash</th>\n",
              "      <th>Water</th>\n",
              "      <th>Superplasticizer</th>\n",
              "      <th>Coarse Aggregate</th>\n",
              "      <th>Fine Aggregate</th>\n",
              "      <th>Age</th>\n",
              "      <th>Strength</th>\n",
              "    </tr>\n",
              "  </thead>\n",
              "  <tbody>\n",
              "    <tr>\n",
              "      <th>0</th>\n",
              "      <td>540.0</td>\n",
              "      <td>0.0</td>\n",
              "      <td>0.0</td>\n",
              "      <td>162.0</td>\n",
              "      <td>2.5</td>\n",
              "      <td>1040.0</td>\n",
              "      <td>676.0</td>\n",
              "      <td>28</td>\n",
              "      <td>79.99</td>\n",
              "    </tr>\n",
              "    <tr>\n",
              "      <th>1</th>\n",
              "      <td>540.0</td>\n",
              "      <td>0.0</td>\n",
              "      <td>0.0</td>\n",
              "      <td>162.0</td>\n",
              "      <td>2.5</td>\n",
              "      <td>1055.0</td>\n",
              "      <td>676.0</td>\n",
              "      <td>28</td>\n",
              "      <td>61.89</td>\n",
              "    </tr>\n",
              "    <tr>\n",
              "      <th>2</th>\n",
              "      <td>332.5</td>\n",
              "      <td>142.5</td>\n",
              "      <td>0.0</td>\n",
              "      <td>228.0</td>\n",
              "      <td>0.0</td>\n",
              "      <td>932.0</td>\n",
              "      <td>594.0</td>\n",
              "      <td>270</td>\n",
              "      <td>40.27</td>\n",
              "    </tr>\n",
              "    <tr>\n",
              "      <th>3</th>\n",
              "      <td>332.5</td>\n",
              "      <td>142.5</td>\n",
              "      <td>0.0</td>\n",
              "      <td>228.0</td>\n",
              "      <td>0.0</td>\n",
              "      <td>932.0</td>\n",
              "      <td>594.0</td>\n",
              "      <td>365</td>\n",
              "      <td>41.05</td>\n",
              "    </tr>\n",
              "    <tr>\n",
              "      <th>4</th>\n",
              "      <td>198.6</td>\n",
              "      <td>132.4</td>\n",
              "      <td>0.0</td>\n",
              "      <td>192.0</td>\n",
              "      <td>0.0</td>\n",
              "      <td>978.4</td>\n",
              "      <td>825.5</td>\n",
              "      <td>360</td>\n",
              "      <td>44.30</td>\n",
              "    </tr>\n",
              "  </tbody>\n",
              "</table>\n",
              "</div>\n",
              "      <button class=\"colab-df-convert\" onclick=\"convertToInteractive('df-32c2a61e-be41-4875-95cb-c20f0551e69d')\"\n",
              "              title=\"Convert this dataframe to an interactive table.\"\n",
              "              style=\"display:none;\">\n",
              "\n",
              "  <svg xmlns=\"http://www.w3.org/2000/svg\" height=\"24px\"viewBox=\"0 0 24 24\"\n",
              "       width=\"24px\">\n",
              "    <path d=\"M0 0h24v24H0V0z\" fill=\"none\"/>\n",
              "    <path d=\"M18.56 5.44l.94 2.06.94-2.06 2.06-.94-2.06-.94-.94-2.06-.94 2.06-2.06.94zm-11 1L8.5 8.5l.94-2.06 2.06-.94-2.06-.94L8.5 2.5l-.94 2.06-2.06.94zm10 10l.94 2.06.94-2.06 2.06-.94-2.06-.94-.94-2.06-.94 2.06-2.06.94z\"/><path d=\"M17.41 7.96l-1.37-1.37c-.4-.4-.92-.59-1.43-.59-.52 0-1.04.2-1.43.59L10.3 9.45l-7.72 7.72c-.78.78-.78 2.05 0 2.83L4 21.41c.39.39.9.59 1.41.59.51 0 1.02-.2 1.41-.59l7.78-7.78 2.81-2.81c.8-.78.8-2.07 0-2.86zM5.41 20L4 18.59l7.72-7.72 1.47 1.35L5.41 20z\"/>\n",
              "  </svg>\n",
              "      </button>\n",
              "\n",
              "\n",
              "\n",
              "    <div id=\"df-9184ffe4-7676-433a-a2ae-56c5d3710a77\">\n",
              "      <button class=\"colab-df-quickchart\" onclick=\"quickchart('df-9184ffe4-7676-433a-a2ae-56c5d3710a77')\"\n",
              "              title=\"Suggest charts.\"\n",
              "              style=\"display:none;\">\n",
              "\n",
              "<svg xmlns=\"http://www.w3.org/2000/svg\" height=\"24px\"viewBox=\"0 0 24 24\"\n",
              "     width=\"24px\">\n",
              "    <g>\n",
              "        <path d=\"M19 3H5c-1.1 0-2 .9-2 2v14c0 1.1.9 2 2 2h14c1.1 0 2-.9 2-2V5c0-1.1-.9-2-2-2zM9 17H7v-7h2v7zm4 0h-2V7h2v10zm4 0h-2v-4h2v4z\"/>\n",
              "    </g>\n",
              "</svg>\n",
              "      </button>\n",
              "    </div>\n",
              "\n",
              "<style>\n",
              "  .colab-df-quickchart {\n",
              "    background-color: #E8F0FE;\n",
              "    border: none;\n",
              "    border-radius: 50%;\n",
              "    cursor: pointer;\n",
              "    display: none;\n",
              "    fill: #1967D2;\n",
              "    height: 32px;\n",
              "    padding: 0 0 0 0;\n",
              "    width: 32px;\n",
              "  }\n",
              "\n",
              "  .colab-df-quickchart:hover {\n",
              "    background-color: #E2EBFA;\n",
              "    box-shadow: 0px 1px 2px rgba(60, 64, 67, 0.3), 0px 1px 3px 1px rgba(60, 64, 67, 0.15);\n",
              "    fill: #174EA6;\n",
              "  }\n",
              "\n",
              "  [theme=dark] .colab-df-quickchart {\n",
              "    background-color: #3B4455;\n",
              "    fill: #D2E3FC;\n",
              "  }\n",
              "\n",
              "  [theme=dark] .colab-df-quickchart:hover {\n",
              "    background-color: #434B5C;\n",
              "    box-shadow: 0px 1px 3px 1px rgba(0, 0, 0, 0.15);\n",
              "    filter: drop-shadow(0px 1px 2px rgba(0, 0, 0, 0.3));\n",
              "    fill: #FFFFFF;\n",
              "  }\n",
              "</style>\n",
              "\n",
              "    <script>\n",
              "      async function quickchart(key) {\n",
              "        const containerElement = document.querySelector('#' + key);\n",
              "        const charts = await google.colab.kernel.invokeFunction(\n",
              "            'suggestCharts', [key], {});\n",
              "      }\n",
              "    </script>\n",
              "\n",
              "      <script>\n",
              "\n",
              "function displayQuickchartButton(domScope) {\n",
              "  let quickchartButtonEl =\n",
              "    domScope.querySelector('#df-9184ffe4-7676-433a-a2ae-56c5d3710a77 button.colab-df-quickchart');\n",
              "  quickchartButtonEl.style.display =\n",
              "    google.colab.kernel.accessAllowed ? 'block' : 'none';\n",
              "}\n",
              "\n",
              "        displayQuickchartButton(document);\n",
              "      </script>\n",
              "      <style>\n",
              "    .colab-df-container {\n",
              "      display:flex;\n",
              "      flex-wrap:wrap;\n",
              "      gap: 12px;\n",
              "    }\n",
              "\n",
              "    .colab-df-convert {\n",
              "      background-color: #E8F0FE;\n",
              "      border: none;\n",
              "      border-radius: 50%;\n",
              "      cursor: pointer;\n",
              "      display: none;\n",
              "      fill: #1967D2;\n",
              "      height: 32px;\n",
              "      padding: 0 0 0 0;\n",
              "      width: 32px;\n",
              "    }\n",
              "\n",
              "    .colab-df-convert:hover {\n",
              "      background-color: #E2EBFA;\n",
              "      box-shadow: 0px 1px 2px rgba(60, 64, 67, 0.3), 0px 1px 3px 1px rgba(60, 64, 67, 0.15);\n",
              "      fill: #174EA6;\n",
              "    }\n",
              "\n",
              "    [theme=dark] .colab-df-convert {\n",
              "      background-color: #3B4455;\n",
              "      fill: #D2E3FC;\n",
              "    }\n",
              "\n",
              "    [theme=dark] .colab-df-convert:hover {\n",
              "      background-color: #434B5C;\n",
              "      box-shadow: 0px 1px 3px 1px rgba(0, 0, 0, 0.15);\n",
              "      filter: drop-shadow(0px 1px 2px rgba(0, 0, 0, 0.3));\n",
              "      fill: #FFFFFF;\n",
              "    }\n",
              "  </style>\n",
              "\n",
              "      <script>\n",
              "        const buttonEl =\n",
              "          document.querySelector('#df-32c2a61e-be41-4875-95cb-c20f0551e69d button.colab-df-convert');\n",
              "        buttonEl.style.display =\n",
              "          google.colab.kernel.accessAllowed ? 'block' : 'none';\n",
              "\n",
              "        async function convertToInteractive(key) {\n",
              "          const element = document.querySelector('#df-32c2a61e-be41-4875-95cb-c20f0551e69d');\n",
              "          const dataTable =\n",
              "            await google.colab.kernel.invokeFunction('convertToInteractive',\n",
              "                                                     [key], {});\n",
              "          if (!dataTable) return;\n",
              "\n",
              "          const docLinkHtml = 'Like what you see? Visit the ' +\n",
              "            '<a target=\"_blank\" href=https://colab.research.google.com/notebooks/data_table.ipynb>data table notebook</a>'\n",
              "            + ' to learn more about interactive tables.';\n",
              "          element.innerHTML = '';\n",
              "          dataTable['output_type'] = 'display_data';\n",
              "          await google.colab.output.renderOutput(dataTable, element);\n",
              "          const docLink = document.createElement('div');\n",
              "          docLink.innerHTML = docLinkHtml;\n",
              "          element.appendChild(docLink);\n",
              "        }\n",
              "      </script>\n",
              "    </div>\n",
              "  </div>\n"
            ]
          },
          "metadata": {},
          "execution_count": 2
        }
      ]
    },
    {
      "cell_type": "markdown",
      "source": [
        "So the first concrete sample has 540 cubic meter of cement, 0 cubic meter of blast furnace slag, 0 cubic meter of fly ash, 162 cubic meter of water, 2.5 cubic meter of superplaticizer, 1040 cubic meter of coarse aggregate, 676 cubic meter of fine aggregate. Such a concrete mix which is 28 days old, has a compressive strength of 79.99 MPa."
      ],
      "metadata": {
        "id": "EZ0HX0ENRcqz"
      }
    },
    {
      "cell_type": "markdown",
      "source": [
        "### Let's check how many data points we have"
      ],
      "metadata": {
        "id": "yiy5kDhTRlfQ"
      }
    },
    {
      "cell_type": "code",
      "source": [
        "concrete_data.shape"
      ],
      "metadata": {
        "colab": {
          "base_uri": "https://localhost:8080/"
        },
        "id": "S3uMAhToRkJq",
        "outputId": "d31b6e40-e094-4fd3-ec6b-9d0d654af72d"
      },
      "execution_count": null,
      "outputs": [
        {
          "output_type": "execute_result",
          "data": {
            "text/plain": [
              "(1030, 9)"
            ]
          },
          "metadata": {},
          "execution_count": 3
        }
      ]
    },
    {
      "cell_type": "markdown",
      "source": [
        "So, there are approximately 1000 samples to train our model on. Because of the few samples, we have to be careful not to overfit the training data.\n",
        "\n",
        "Let's check the dataset for any missing values."
      ],
      "metadata": {
        "id": "mmyGgcY6Rs5P"
      }
    },
    {
      "cell_type": "code",
      "source": [
        "concrete_data.describe()"
      ],
      "metadata": {
        "colab": {
          "base_uri": "https://localhost:8080/",
          "height": 399
        },
        "id": "4mah3c7gRxt4",
        "outputId": "5da4d39b-beee-4e99-c436-3dbc8d3bb8ce"
      },
      "execution_count": null,
      "outputs": [
        {
          "output_type": "execute_result",
          "data": {
            "text/plain": [
              "            Cement  Blast Furnace Slag      Fly Ash        Water  \\\n",
              "count  1030.000000         1030.000000  1030.000000  1030.000000   \n",
              "mean    281.167864           73.895825    54.188350   181.567282   \n",
              "std     104.506364           86.279342    63.997004    21.354219   \n",
              "min     102.000000            0.000000     0.000000   121.800000   \n",
              "25%     192.375000            0.000000     0.000000   164.900000   \n",
              "50%     272.900000           22.000000     0.000000   185.000000   \n",
              "75%     350.000000          142.950000   118.300000   192.000000   \n",
              "max     540.000000          359.400000   200.100000   247.000000   \n",
              "\n",
              "       Superplasticizer  Coarse Aggregate  Fine Aggregate          Age  \\\n",
              "count       1030.000000       1030.000000     1030.000000  1030.000000   \n",
              "mean           6.204660        972.918932      773.580485    45.662136   \n",
              "std            5.973841         77.753954       80.175980    63.169912   \n",
              "min            0.000000        801.000000      594.000000     1.000000   \n",
              "25%            0.000000        932.000000      730.950000     7.000000   \n",
              "50%            6.400000        968.000000      779.500000    28.000000   \n",
              "75%           10.200000       1029.400000      824.000000    56.000000   \n",
              "max           32.200000       1145.000000      992.600000   365.000000   \n",
              "\n",
              "          Strength  \n",
              "count  1030.000000  \n",
              "mean     35.817961  \n",
              "std      16.705742  \n",
              "min       2.330000  \n",
              "25%      23.710000  \n",
              "50%      34.445000  \n",
              "75%      46.135000  \n",
              "max      82.600000  "
            ],
            "text/html": [
              "\n",
              "\n",
              "  <div id=\"df-1e8da742-7a39-442c-bfd4-0cbbb74e3c30\">\n",
              "    <div class=\"colab-df-container\">\n",
              "      <div>\n",
              "<style scoped>\n",
              "    .dataframe tbody tr th:only-of-type {\n",
              "        vertical-align: middle;\n",
              "    }\n",
              "\n",
              "    .dataframe tbody tr th {\n",
              "        vertical-align: top;\n",
              "    }\n",
              "\n",
              "    .dataframe thead th {\n",
              "        text-align: right;\n",
              "    }\n",
              "</style>\n",
              "<table border=\"1\" class=\"dataframe\">\n",
              "  <thead>\n",
              "    <tr style=\"text-align: right;\">\n",
              "      <th></th>\n",
              "      <th>Cement</th>\n",
              "      <th>Blast Furnace Slag</th>\n",
              "      <th>Fly Ash</th>\n",
              "      <th>Water</th>\n",
              "      <th>Superplasticizer</th>\n",
              "      <th>Coarse Aggregate</th>\n",
              "      <th>Fine Aggregate</th>\n",
              "      <th>Age</th>\n",
              "      <th>Strength</th>\n",
              "    </tr>\n",
              "  </thead>\n",
              "  <tbody>\n",
              "    <tr>\n",
              "      <th>count</th>\n",
              "      <td>1030.000000</td>\n",
              "      <td>1030.000000</td>\n",
              "      <td>1030.000000</td>\n",
              "      <td>1030.000000</td>\n",
              "      <td>1030.000000</td>\n",
              "      <td>1030.000000</td>\n",
              "      <td>1030.000000</td>\n",
              "      <td>1030.000000</td>\n",
              "      <td>1030.000000</td>\n",
              "    </tr>\n",
              "    <tr>\n",
              "      <th>mean</th>\n",
              "      <td>281.167864</td>\n",
              "      <td>73.895825</td>\n",
              "      <td>54.188350</td>\n",
              "      <td>181.567282</td>\n",
              "      <td>6.204660</td>\n",
              "      <td>972.918932</td>\n",
              "      <td>773.580485</td>\n",
              "      <td>45.662136</td>\n",
              "      <td>35.817961</td>\n",
              "    </tr>\n",
              "    <tr>\n",
              "      <th>std</th>\n",
              "      <td>104.506364</td>\n",
              "      <td>86.279342</td>\n",
              "      <td>63.997004</td>\n",
              "      <td>21.354219</td>\n",
              "      <td>5.973841</td>\n",
              "      <td>77.753954</td>\n",
              "      <td>80.175980</td>\n",
              "      <td>63.169912</td>\n",
              "      <td>16.705742</td>\n",
              "    </tr>\n",
              "    <tr>\n",
              "      <th>min</th>\n",
              "      <td>102.000000</td>\n",
              "      <td>0.000000</td>\n",
              "      <td>0.000000</td>\n",
              "      <td>121.800000</td>\n",
              "      <td>0.000000</td>\n",
              "      <td>801.000000</td>\n",
              "      <td>594.000000</td>\n",
              "      <td>1.000000</td>\n",
              "      <td>2.330000</td>\n",
              "    </tr>\n",
              "    <tr>\n",
              "      <th>25%</th>\n",
              "      <td>192.375000</td>\n",
              "      <td>0.000000</td>\n",
              "      <td>0.000000</td>\n",
              "      <td>164.900000</td>\n",
              "      <td>0.000000</td>\n",
              "      <td>932.000000</td>\n",
              "      <td>730.950000</td>\n",
              "      <td>7.000000</td>\n",
              "      <td>23.710000</td>\n",
              "    </tr>\n",
              "    <tr>\n",
              "      <th>50%</th>\n",
              "      <td>272.900000</td>\n",
              "      <td>22.000000</td>\n",
              "      <td>0.000000</td>\n",
              "      <td>185.000000</td>\n",
              "      <td>6.400000</td>\n",
              "      <td>968.000000</td>\n",
              "      <td>779.500000</td>\n",
              "      <td>28.000000</td>\n",
              "      <td>34.445000</td>\n",
              "    </tr>\n",
              "    <tr>\n",
              "      <th>75%</th>\n",
              "      <td>350.000000</td>\n",
              "      <td>142.950000</td>\n",
              "      <td>118.300000</td>\n",
              "      <td>192.000000</td>\n",
              "      <td>10.200000</td>\n",
              "      <td>1029.400000</td>\n",
              "      <td>824.000000</td>\n",
              "      <td>56.000000</td>\n",
              "      <td>46.135000</td>\n",
              "    </tr>\n",
              "    <tr>\n",
              "      <th>max</th>\n",
              "      <td>540.000000</td>\n",
              "      <td>359.400000</td>\n",
              "      <td>200.100000</td>\n",
              "      <td>247.000000</td>\n",
              "      <td>32.200000</td>\n",
              "      <td>1145.000000</td>\n",
              "      <td>992.600000</td>\n",
              "      <td>365.000000</td>\n",
              "      <td>82.600000</td>\n",
              "    </tr>\n",
              "  </tbody>\n",
              "</table>\n",
              "</div>\n",
              "      <button class=\"colab-df-convert\" onclick=\"convertToInteractive('df-1e8da742-7a39-442c-bfd4-0cbbb74e3c30')\"\n",
              "              title=\"Convert this dataframe to an interactive table.\"\n",
              "              style=\"display:none;\">\n",
              "\n",
              "  <svg xmlns=\"http://www.w3.org/2000/svg\" height=\"24px\"viewBox=\"0 0 24 24\"\n",
              "       width=\"24px\">\n",
              "    <path d=\"M0 0h24v24H0V0z\" fill=\"none\"/>\n",
              "    <path d=\"M18.56 5.44l.94 2.06.94-2.06 2.06-.94-2.06-.94-.94-2.06-.94 2.06-2.06.94zm-11 1L8.5 8.5l.94-2.06 2.06-.94-2.06-.94L8.5 2.5l-.94 2.06-2.06.94zm10 10l.94 2.06.94-2.06 2.06-.94-2.06-.94-.94-2.06-.94 2.06-2.06.94z\"/><path d=\"M17.41 7.96l-1.37-1.37c-.4-.4-.92-.59-1.43-.59-.52 0-1.04.2-1.43.59L10.3 9.45l-7.72 7.72c-.78.78-.78 2.05 0 2.83L4 21.41c.39.39.9.59 1.41.59.51 0 1.02-.2 1.41-.59l7.78-7.78 2.81-2.81c.8-.78.8-2.07 0-2.86zM5.41 20L4 18.59l7.72-7.72 1.47 1.35L5.41 20z\"/>\n",
              "  </svg>\n",
              "      </button>\n",
              "\n",
              "\n",
              "\n",
              "    <div id=\"df-10bf60a8-add9-4bcd-bb5f-cf9ef7fb76a2\">\n",
              "      <button class=\"colab-df-quickchart\" onclick=\"quickchart('df-10bf60a8-add9-4bcd-bb5f-cf9ef7fb76a2')\"\n",
              "              title=\"Suggest charts.\"\n",
              "              style=\"display:none;\">\n",
              "\n",
              "<svg xmlns=\"http://www.w3.org/2000/svg\" height=\"24px\"viewBox=\"0 0 24 24\"\n",
              "     width=\"24px\">\n",
              "    <g>\n",
              "        <path d=\"M19 3H5c-1.1 0-2 .9-2 2v14c0 1.1.9 2 2 2h14c1.1 0 2-.9 2-2V5c0-1.1-.9-2-2-2zM9 17H7v-7h2v7zm4 0h-2V7h2v10zm4 0h-2v-4h2v4z\"/>\n",
              "    </g>\n",
              "</svg>\n",
              "      </button>\n",
              "    </div>\n",
              "\n",
              "<style>\n",
              "  .colab-df-quickchart {\n",
              "    background-color: #E8F0FE;\n",
              "    border: none;\n",
              "    border-radius: 50%;\n",
              "    cursor: pointer;\n",
              "    display: none;\n",
              "    fill: #1967D2;\n",
              "    height: 32px;\n",
              "    padding: 0 0 0 0;\n",
              "    width: 32px;\n",
              "  }\n",
              "\n",
              "  .colab-df-quickchart:hover {\n",
              "    background-color: #E2EBFA;\n",
              "    box-shadow: 0px 1px 2px rgba(60, 64, 67, 0.3), 0px 1px 3px 1px rgba(60, 64, 67, 0.15);\n",
              "    fill: #174EA6;\n",
              "  }\n",
              "\n",
              "  [theme=dark] .colab-df-quickchart {\n",
              "    background-color: #3B4455;\n",
              "    fill: #D2E3FC;\n",
              "  }\n",
              "\n",
              "  [theme=dark] .colab-df-quickchart:hover {\n",
              "    background-color: #434B5C;\n",
              "    box-shadow: 0px 1px 3px 1px rgba(0, 0, 0, 0.15);\n",
              "    filter: drop-shadow(0px 1px 2px rgba(0, 0, 0, 0.3));\n",
              "    fill: #FFFFFF;\n",
              "  }\n",
              "</style>\n",
              "\n",
              "    <script>\n",
              "      async function quickchart(key) {\n",
              "        const containerElement = document.querySelector('#' + key);\n",
              "        const charts = await google.colab.kernel.invokeFunction(\n",
              "            'suggestCharts', [key], {});\n",
              "      }\n",
              "    </script>\n",
              "\n",
              "      <script>\n",
              "\n",
              "function displayQuickchartButton(domScope) {\n",
              "  let quickchartButtonEl =\n",
              "    domScope.querySelector('#df-10bf60a8-add9-4bcd-bb5f-cf9ef7fb76a2 button.colab-df-quickchart');\n",
              "  quickchartButtonEl.style.display =\n",
              "    google.colab.kernel.accessAllowed ? 'block' : 'none';\n",
              "}\n",
              "\n",
              "        displayQuickchartButton(document);\n",
              "      </script>\n",
              "      <style>\n",
              "    .colab-df-container {\n",
              "      display:flex;\n",
              "      flex-wrap:wrap;\n",
              "      gap: 12px;\n",
              "    }\n",
              "\n",
              "    .colab-df-convert {\n",
              "      background-color: #E8F0FE;\n",
              "      border: none;\n",
              "      border-radius: 50%;\n",
              "      cursor: pointer;\n",
              "      display: none;\n",
              "      fill: #1967D2;\n",
              "      height: 32px;\n",
              "      padding: 0 0 0 0;\n",
              "      width: 32px;\n",
              "    }\n",
              "\n",
              "    .colab-df-convert:hover {\n",
              "      background-color: #E2EBFA;\n",
              "      box-shadow: 0px 1px 2px rgba(60, 64, 67, 0.3), 0px 1px 3px 1px rgba(60, 64, 67, 0.15);\n",
              "      fill: #174EA6;\n",
              "    }\n",
              "\n",
              "    [theme=dark] .colab-df-convert {\n",
              "      background-color: #3B4455;\n",
              "      fill: #D2E3FC;\n",
              "    }\n",
              "\n",
              "    [theme=dark] .colab-df-convert:hover {\n",
              "      background-color: #434B5C;\n",
              "      box-shadow: 0px 1px 3px 1px rgba(0, 0, 0, 0.15);\n",
              "      filter: drop-shadow(0px 1px 2px rgba(0, 0, 0, 0.3));\n",
              "      fill: #FFFFFF;\n",
              "    }\n",
              "  </style>\n",
              "\n",
              "      <script>\n",
              "        const buttonEl =\n",
              "          document.querySelector('#df-1e8da742-7a39-442c-bfd4-0cbbb74e3c30 button.colab-df-convert');\n",
              "        buttonEl.style.display =\n",
              "          google.colab.kernel.accessAllowed ? 'block' : 'none';\n",
              "\n",
              "        async function convertToInteractive(key) {\n",
              "          const element = document.querySelector('#df-1e8da742-7a39-442c-bfd4-0cbbb74e3c30');\n",
              "          const dataTable =\n",
              "            await google.colab.kernel.invokeFunction('convertToInteractive',\n",
              "                                                     [key], {});\n",
              "          if (!dataTable) return;\n",
              "\n",
              "          const docLinkHtml = 'Like what you see? Visit the ' +\n",
              "            '<a target=\"_blank\" href=https://colab.research.google.com/notebooks/data_table.ipynb>data table notebook</a>'\n",
              "            + ' to learn more about interactive tables.';\n",
              "          element.innerHTML = '';\n",
              "          dataTable['output_type'] = 'display_data';\n",
              "          await google.colab.output.renderOutput(dataTable, element);\n",
              "          const docLink = document.createElement('div');\n",
              "          docLink.innerHTML = docLinkHtml;\n",
              "          element.appendChild(docLink);\n",
              "        }\n",
              "      </script>\n",
              "    </div>\n",
              "  </div>\n"
            ]
          },
          "metadata": {},
          "execution_count": 4
        }
      ]
    },
    {
      "cell_type": "code",
      "source": [
        "concrete_data.isnull().sum()"
      ],
      "metadata": {
        "colab": {
          "base_uri": "https://localhost:8080/"
        },
        "id": "57_jvFUHR5HF",
        "outputId": "fb780b27-49a9-44b9-83cb-21f95150613a"
      },
      "execution_count": null,
      "outputs": [
        {
          "output_type": "execute_result",
          "data": {
            "text/plain": [
              "Cement                0\n",
              "Blast Furnace Slag    0\n",
              "Fly Ash               0\n",
              "Water                 0\n",
              "Superplasticizer      0\n",
              "Coarse Aggregate      0\n",
              "Fine Aggregate        0\n",
              "Age                   0\n",
              "Strength              0\n",
              "dtype: int64"
            ]
          },
          "metadata": {},
          "execution_count": 5
        }
      ]
    },
    {
      "cell_type": "markdown",
      "source": [
        "The data looks very clean and is ready to be used to build our model."
      ],
      "metadata": {
        "id": "DDDeoeLIR1B_"
      }
    },
    {
      "cell_type": "markdown",
      "source": [
        "### Split data into predictors and target"
      ],
      "metadata": {
        "id": "R3maVv7mSJuB"
      }
    },
    {
      "cell_type": "markdown",
      "source": [
        "The target variable in this problem is the concrete sample strength. Therefore, our predictors will be all the other columns."
      ],
      "metadata": {
        "id": "e4zYaXPkSSGx"
      }
    },
    {
      "cell_type": "code",
      "source": [
        "concrete_data_columns = concrete_data.columns\n",
        "predictors = concrete_data[concrete_data_columns[concrete_data_columns != 'Strength']] # all columns except Strength\n",
        "target = concrete_data['Strength'] # Strength column"
      ],
      "metadata": {
        "id": "WjvgpGpPSSw_"
      },
      "execution_count": null,
      "outputs": []
    },
    {
      "cell_type": "markdown",
      "source": [
        "Let's do a quick sanity check of the predictors and the target dataframes."
      ],
      "metadata": {
        "id": "KwJa9V6wSazP"
      }
    },
    {
      "cell_type": "code",
      "source": [
        "predictors.head()"
      ],
      "metadata": {
        "colab": {
          "base_uri": "https://localhost:8080/",
          "height": 206
        },
        "id": "_TvnH5vDSZkR",
        "outputId": "372b9627-59c0-4fc5-fafc-5aa0d83fa37f"
      },
      "execution_count": null,
      "outputs": [
        {
          "output_type": "execute_result",
          "data": {
            "text/plain": [
              "   Cement  Blast Furnace Slag  Fly Ash  Water  Superplasticizer  \\\n",
              "0   540.0                 0.0      0.0  162.0               2.5   \n",
              "1   540.0                 0.0      0.0  162.0               2.5   \n",
              "2   332.5               142.5      0.0  228.0               0.0   \n",
              "3   332.5               142.5      0.0  228.0               0.0   \n",
              "4   198.6               132.4      0.0  192.0               0.0   \n",
              "\n",
              "   Coarse Aggregate  Fine Aggregate  Age  \n",
              "0            1040.0           676.0   28  \n",
              "1            1055.0           676.0   28  \n",
              "2             932.0           594.0  270  \n",
              "3             932.0           594.0  365  \n",
              "4             978.4           825.5  360  "
            ],
            "text/html": [
              "\n",
              "\n",
              "  <div id=\"df-44a79e17-8a78-457e-a3b7-97da3ea153fd\">\n",
              "    <div class=\"colab-df-container\">\n",
              "      <div>\n",
              "<style scoped>\n",
              "    .dataframe tbody tr th:only-of-type {\n",
              "        vertical-align: middle;\n",
              "    }\n",
              "\n",
              "    .dataframe tbody tr th {\n",
              "        vertical-align: top;\n",
              "    }\n",
              "\n",
              "    .dataframe thead th {\n",
              "        text-align: right;\n",
              "    }\n",
              "</style>\n",
              "<table border=\"1\" class=\"dataframe\">\n",
              "  <thead>\n",
              "    <tr style=\"text-align: right;\">\n",
              "      <th></th>\n",
              "      <th>Cement</th>\n",
              "      <th>Blast Furnace Slag</th>\n",
              "      <th>Fly Ash</th>\n",
              "      <th>Water</th>\n",
              "      <th>Superplasticizer</th>\n",
              "      <th>Coarse Aggregate</th>\n",
              "      <th>Fine Aggregate</th>\n",
              "      <th>Age</th>\n",
              "    </tr>\n",
              "  </thead>\n",
              "  <tbody>\n",
              "    <tr>\n",
              "      <th>0</th>\n",
              "      <td>540.0</td>\n",
              "      <td>0.0</td>\n",
              "      <td>0.0</td>\n",
              "      <td>162.0</td>\n",
              "      <td>2.5</td>\n",
              "      <td>1040.0</td>\n",
              "      <td>676.0</td>\n",
              "      <td>28</td>\n",
              "    </tr>\n",
              "    <tr>\n",
              "      <th>1</th>\n",
              "      <td>540.0</td>\n",
              "      <td>0.0</td>\n",
              "      <td>0.0</td>\n",
              "      <td>162.0</td>\n",
              "      <td>2.5</td>\n",
              "      <td>1055.0</td>\n",
              "      <td>676.0</td>\n",
              "      <td>28</td>\n",
              "    </tr>\n",
              "    <tr>\n",
              "      <th>2</th>\n",
              "      <td>332.5</td>\n",
              "      <td>142.5</td>\n",
              "      <td>0.0</td>\n",
              "      <td>228.0</td>\n",
              "      <td>0.0</td>\n",
              "      <td>932.0</td>\n",
              "      <td>594.0</td>\n",
              "      <td>270</td>\n",
              "    </tr>\n",
              "    <tr>\n",
              "      <th>3</th>\n",
              "      <td>332.5</td>\n",
              "      <td>142.5</td>\n",
              "      <td>0.0</td>\n",
              "      <td>228.0</td>\n",
              "      <td>0.0</td>\n",
              "      <td>932.0</td>\n",
              "      <td>594.0</td>\n",
              "      <td>365</td>\n",
              "    </tr>\n",
              "    <tr>\n",
              "      <th>4</th>\n",
              "      <td>198.6</td>\n",
              "      <td>132.4</td>\n",
              "      <td>0.0</td>\n",
              "      <td>192.0</td>\n",
              "      <td>0.0</td>\n",
              "      <td>978.4</td>\n",
              "      <td>825.5</td>\n",
              "      <td>360</td>\n",
              "    </tr>\n",
              "  </tbody>\n",
              "</table>\n",
              "</div>\n",
              "      <button class=\"colab-df-convert\" onclick=\"convertToInteractive('df-44a79e17-8a78-457e-a3b7-97da3ea153fd')\"\n",
              "              title=\"Convert this dataframe to an interactive table.\"\n",
              "              style=\"display:none;\">\n",
              "\n",
              "  <svg xmlns=\"http://www.w3.org/2000/svg\" height=\"24px\"viewBox=\"0 0 24 24\"\n",
              "       width=\"24px\">\n",
              "    <path d=\"M0 0h24v24H0V0z\" fill=\"none\"/>\n",
              "    <path d=\"M18.56 5.44l.94 2.06.94-2.06 2.06-.94-2.06-.94-.94-2.06-.94 2.06-2.06.94zm-11 1L8.5 8.5l.94-2.06 2.06-.94-2.06-.94L8.5 2.5l-.94 2.06-2.06.94zm10 10l.94 2.06.94-2.06 2.06-.94-2.06-.94-.94-2.06-.94 2.06-2.06.94z\"/><path d=\"M17.41 7.96l-1.37-1.37c-.4-.4-.92-.59-1.43-.59-.52 0-1.04.2-1.43.59L10.3 9.45l-7.72 7.72c-.78.78-.78 2.05 0 2.83L4 21.41c.39.39.9.59 1.41.59.51 0 1.02-.2 1.41-.59l7.78-7.78 2.81-2.81c.8-.78.8-2.07 0-2.86zM5.41 20L4 18.59l7.72-7.72 1.47 1.35L5.41 20z\"/>\n",
              "  </svg>\n",
              "      </button>\n",
              "\n",
              "\n",
              "\n",
              "    <div id=\"df-2b8e286a-bb31-41ef-b046-8912c1c241ed\">\n",
              "      <button class=\"colab-df-quickchart\" onclick=\"quickchart('df-2b8e286a-bb31-41ef-b046-8912c1c241ed')\"\n",
              "              title=\"Suggest charts.\"\n",
              "              style=\"display:none;\">\n",
              "\n",
              "<svg xmlns=\"http://www.w3.org/2000/svg\" height=\"24px\"viewBox=\"0 0 24 24\"\n",
              "     width=\"24px\">\n",
              "    <g>\n",
              "        <path d=\"M19 3H5c-1.1 0-2 .9-2 2v14c0 1.1.9 2 2 2h14c1.1 0 2-.9 2-2V5c0-1.1-.9-2-2-2zM9 17H7v-7h2v7zm4 0h-2V7h2v10zm4 0h-2v-4h2v4z\"/>\n",
              "    </g>\n",
              "</svg>\n",
              "      </button>\n",
              "    </div>\n",
              "\n",
              "<style>\n",
              "  .colab-df-quickchart {\n",
              "    background-color: #E8F0FE;\n",
              "    border: none;\n",
              "    border-radius: 50%;\n",
              "    cursor: pointer;\n",
              "    display: none;\n",
              "    fill: #1967D2;\n",
              "    height: 32px;\n",
              "    padding: 0 0 0 0;\n",
              "    width: 32px;\n",
              "  }\n",
              "\n",
              "  .colab-df-quickchart:hover {\n",
              "    background-color: #E2EBFA;\n",
              "    box-shadow: 0px 1px 2px rgba(60, 64, 67, 0.3), 0px 1px 3px 1px rgba(60, 64, 67, 0.15);\n",
              "    fill: #174EA6;\n",
              "  }\n",
              "\n",
              "  [theme=dark] .colab-df-quickchart {\n",
              "    background-color: #3B4455;\n",
              "    fill: #D2E3FC;\n",
              "  }\n",
              "\n",
              "  [theme=dark] .colab-df-quickchart:hover {\n",
              "    background-color: #434B5C;\n",
              "    box-shadow: 0px 1px 3px 1px rgba(0, 0, 0, 0.15);\n",
              "    filter: drop-shadow(0px 1px 2px rgba(0, 0, 0, 0.3));\n",
              "    fill: #FFFFFF;\n",
              "  }\n",
              "</style>\n",
              "\n",
              "    <script>\n",
              "      async function quickchart(key) {\n",
              "        const containerElement = document.querySelector('#' + key);\n",
              "        const charts = await google.colab.kernel.invokeFunction(\n",
              "            'suggestCharts', [key], {});\n",
              "      }\n",
              "    </script>\n",
              "\n",
              "      <script>\n",
              "\n",
              "function displayQuickchartButton(domScope) {\n",
              "  let quickchartButtonEl =\n",
              "    domScope.querySelector('#df-2b8e286a-bb31-41ef-b046-8912c1c241ed button.colab-df-quickchart');\n",
              "  quickchartButtonEl.style.display =\n",
              "    google.colab.kernel.accessAllowed ? 'block' : 'none';\n",
              "}\n",
              "\n",
              "        displayQuickchartButton(document);\n",
              "      </script>\n",
              "      <style>\n",
              "    .colab-df-container {\n",
              "      display:flex;\n",
              "      flex-wrap:wrap;\n",
              "      gap: 12px;\n",
              "    }\n",
              "\n",
              "    .colab-df-convert {\n",
              "      background-color: #E8F0FE;\n",
              "      border: none;\n",
              "      border-radius: 50%;\n",
              "      cursor: pointer;\n",
              "      display: none;\n",
              "      fill: #1967D2;\n",
              "      height: 32px;\n",
              "      padding: 0 0 0 0;\n",
              "      width: 32px;\n",
              "    }\n",
              "\n",
              "    .colab-df-convert:hover {\n",
              "      background-color: #E2EBFA;\n",
              "      box-shadow: 0px 1px 2px rgba(60, 64, 67, 0.3), 0px 1px 3px 1px rgba(60, 64, 67, 0.15);\n",
              "      fill: #174EA6;\n",
              "    }\n",
              "\n",
              "    [theme=dark] .colab-df-convert {\n",
              "      background-color: #3B4455;\n",
              "      fill: #D2E3FC;\n",
              "    }\n",
              "\n",
              "    [theme=dark] .colab-df-convert:hover {\n",
              "      background-color: #434B5C;\n",
              "      box-shadow: 0px 1px 3px 1px rgba(0, 0, 0, 0.15);\n",
              "      filter: drop-shadow(0px 1px 2px rgba(0, 0, 0, 0.3));\n",
              "      fill: #FFFFFF;\n",
              "    }\n",
              "  </style>\n",
              "\n",
              "      <script>\n",
              "        const buttonEl =\n",
              "          document.querySelector('#df-44a79e17-8a78-457e-a3b7-97da3ea153fd button.colab-df-convert');\n",
              "        buttonEl.style.display =\n",
              "          google.colab.kernel.accessAllowed ? 'block' : 'none';\n",
              "\n",
              "        async function convertToInteractive(key) {\n",
              "          const element = document.querySelector('#df-44a79e17-8a78-457e-a3b7-97da3ea153fd');\n",
              "          const dataTable =\n",
              "            await google.colab.kernel.invokeFunction('convertToInteractive',\n",
              "                                                     [key], {});\n",
              "          if (!dataTable) return;\n",
              "\n",
              "          const docLinkHtml = 'Like what you see? Visit the ' +\n",
              "            '<a target=\"_blank\" href=https://colab.research.google.com/notebooks/data_table.ipynb>data table notebook</a>'\n",
              "            + ' to learn more about interactive tables.';\n",
              "          element.innerHTML = '';\n",
              "          dataTable['output_type'] = 'display_data';\n",
              "          await google.colab.output.renderOutput(dataTable, element);\n",
              "          const docLink = document.createElement('div');\n",
              "          docLink.innerHTML = docLinkHtml;\n",
              "          element.appendChild(docLink);\n",
              "        }\n",
              "      </script>\n",
              "    </div>\n",
              "  </div>\n"
            ]
          },
          "metadata": {},
          "execution_count": 7
        }
      ]
    },
    {
      "cell_type": "code",
      "source": [
        "target.head()"
      ],
      "metadata": {
        "colab": {
          "base_uri": "https://localhost:8080/"
        },
        "id": "Jr5B9rSNSfaf",
        "outputId": "4461be92-04d6-4a3f-8c5c-f016722617f5"
      },
      "execution_count": null,
      "outputs": [
        {
          "output_type": "execute_result",
          "data": {
            "text/plain": [
              "0    79.99\n",
              "1    61.89\n",
              "2    40.27\n",
              "3    41.05\n",
              "4    44.30\n",
              "Name: Strength, dtype: float64"
            ]
          },
          "metadata": {},
          "execution_count": 8
        }
      ]
    },
    {
      "cell_type": "markdown",
      "source": [
        "Finally, the last step is to normalize the data by substracting the mean and dividing by the standard deviation."
      ],
      "metadata": {
        "id": "soMaLfR6SnrY"
      }
    },
    {
      "cell_type": "code",
      "source": [
        "predictors_norm = (predictors - predictors.mean())/predictors.std()\n",
        "predictors_norm.head()"
      ],
      "metadata": {
        "colab": {
          "base_uri": "https://localhost:8080/",
          "height": 250
        },
        "id": "20cNBX6uSjcf",
        "outputId": "727a693f-cb27-440e-8ff6-8e36f1d9cb3c"
      },
      "execution_count": null,
      "outputs": [
        {
          "output_type": "execute_result",
          "data": {
            "text/plain": [
              "     Cement  Blast Furnace Slag   Fly Ash     Water  Superplasticizer  \\\n",
              "0  2.476712           -0.856472 -0.846733 -0.916319         -0.620147   \n",
              "1  2.476712           -0.856472 -0.846733 -0.916319         -0.620147   \n",
              "2  0.491187            0.795140 -0.846733  2.174405         -1.038638   \n",
              "3  0.491187            0.795140 -0.846733  2.174405         -1.038638   \n",
              "4 -0.790075            0.678079 -0.846733  0.488555         -1.038638   \n",
              "\n",
              "   Coarse Aggregate  Fine Aggregate       Age  \n",
              "0          0.862735       -1.217079 -0.279597  \n",
              "1          1.055651       -1.217079 -0.279597  \n",
              "2         -0.526262       -2.239829  3.551340  \n",
              "3         -0.526262       -2.239829  5.055221  \n",
              "4          0.070492        0.647569  4.976069  "
            ],
            "text/html": [
              "\n",
              "\n",
              "  <div id=\"df-109a9873-ddd7-4e2e-ae5d-c6d269cb3dbf\">\n",
              "    <div class=\"colab-df-container\">\n",
              "      <div>\n",
              "<style scoped>\n",
              "    .dataframe tbody tr th:only-of-type {\n",
              "        vertical-align: middle;\n",
              "    }\n",
              "\n",
              "    .dataframe tbody tr th {\n",
              "        vertical-align: top;\n",
              "    }\n",
              "\n",
              "    .dataframe thead th {\n",
              "        text-align: right;\n",
              "    }\n",
              "</style>\n",
              "<table border=\"1\" class=\"dataframe\">\n",
              "  <thead>\n",
              "    <tr style=\"text-align: right;\">\n",
              "      <th></th>\n",
              "      <th>Cement</th>\n",
              "      <th>Blast Furnace Slag</th>\n",
              "      <th>Fly Ash</th>\n",
              "      <th>Water</th>\n",
              "      <th>Superplasticizer</th>\n",
              "      <th>Coarse Aggregate</th>\n",
              "      <th>Fine Aggregate</th>\n",
              "      <th>Age</th>\n",
              "    </tr>\n",
              "  </thead>\n",
              "  <tbody>\n",
              "    <tr>\n",
              "      <th>0</th>\n",
              "      <td>2.476712</td>\n",
              "      <td>-0.856472</td>\n",
              "      <td>-0.846733</td>\n",
              "      <td>-0.916319</td>\n",
              "      <td>-0.620147</td>\n",
              "      <td>0.862735</td>\n",
              "      <td>-1.217079</td>\n",
              "      <td>-0.279597</td>\n",
              "    </tr>\n",
              "    <tr>\n",
              "      <th>1</th>\n",
              "      <td>2.476712</td>\n",
              "      <td>-0.856472</td>\n",
              "      <td>-0.846733</td>\n",
              "      <td>-0.916319</td>\n",
              "      <td>-0.620147</td>\n",
              "      <td>1.055651</td>\n",
              "      <td>-1.217079</td>\n",
              "      <td>-0.279597</td>\n",
              "    </tr>\n",
              "    <tr>\n",
              "      <th>2</th>\n",
              "      <td>0.491187</td>\n",
              "      <td>0.795140</td>\n",
              "      <td>-0.846733</td>\n",
              "      <td>2.174405</td>\n",
              "      <td>-1.038638</td>\n",
              "      <td>-0.526262</td>\n",
              "      <td>-2.239829</td>\n",
              "      <td>3.551340</td>\n",
              "    </tr>\n",
              "    <tr>\n",
              "      <th>3</th>\n",
              "      <td>0.491187</td>\n",
              "      <td>0.795140</td>\n",
              "      <td>-0.846733</td>\n",
              "      <td>2.174405</td>\n",
              "      <td>-1.038638</td>\n",
              "      <td>-0.526262</td>\n",
              "      <td>-2.239829</td>\n",
              "      <td>5.055221</td>\n",
              "    </tr>\n",
              "    <tr>\n",
              "      <th>4</th>\n",
              "      <td>-0.790075</td>\n",
              "      <td>0.678079</td>\n",
              "      <td>-0.846733</td>\n",
              "      <td>0.488555</td>\n",
              "      <td>-1.038638</td>\n",
              "      <td>0.070492</td>\n",
              "      <td>0.647569</td>\n",
              "      <td>4.976069</td>\n",
              "    </tr>\n",
              "  </tbody>\n",
              "</table>\n",
              "</div>\n",
              "      <button class=\"colab-df-convert\" onclick=\"convertToInteractive('df-109a9873-ddd7-4e2e-ae5d-c6d269cb3dbf')\"\n",
              "              title=\"Convert this dataframe to an interactive table.\"\n",
              "              style=\"display:none;\">\n",
              "\n",
              "  <svg xmlns=\"http://www.w3.org/2000/svg\" height=\"24px\"viewBox=\"0 0 24 24\"\n",
              "       width=\"24px\">\n",
              "    <path d=\"M0 0h24v24H0V0z\" fill=\"none\"/>\n",
              "    <path d=\"M18.56 5.44l.94 2.06.94-2.06 2.06-.94-2.06-.94-.94-2.06-.94 2.06-2.06.94zm-11 1L8.5 8.5l.94-2.06 2.06-.94-2.06-.94L8.5 2.5l-.94 2.06-2.06.94zm10 10l.94 2.06.94-2.06 2.06-.94-2.06-.94-.94-2.06-.94 2.06-2.06.94z\"/><path d=\"M17.41 7.96l-1.37-1.37c-.4-.4-.92-.59-1.43-.59-.52 0-1.04.2-1.43.59L10.3 9.45l-7.72 7.72c-.78.78-.78 2.05 0 2.83L4 21.41c.39.39.9.59 1.41.59.51 0 1.02-.2 1.41-.59l7.78-7.78 2.81-2.81c.8-.78.8-2.07 0-2.86zM5.41 20L4 18.59l7.72-7.72 1.47 1.35L5.41 20z\"/>\n",
              "  </svg>\n",
              "      </button>\n",
              "\n",
              "\n",
              "\n",
              "    <div id=\"df-cd5da17b-5842-4696-b458-8bf886b2d729\">\n",
              "      <button class=\"colab-df-quickchart\" onclick=\"quickchart('df-cd5da17b-5842-4696-b458-8bf886b2d729')\"\n",
              "              title=\"Suggest charts.\"\n",
              "              style=\"display:none;\">\n",
              "\n",
              "<svg xmlns=\"http://www.w3.org/2000/svg\" height=\"24px\"viewBox=\"0 0 24 24\"\n",
              "     width=\"24px\">\n",
              "    <g>\n",
              "        <path d=\"M19 3H5c-1.1 0-2 .9-2 2v14c0 1.1.9 2 2 2h14c1.1 0 2-.9 2-2V5c0-1.1-.9-2-2-2zM9 17H7v-7h2v7zm4 0h-2V7h2v10zm4 0h-2v-4h2v4z\"/>\n",
              "    </g>\n",
              "</svg>\n",
              "      </button>\n",
              "    </div>\n",
              "\n",
              "<style>\n",
              "  .colab-df-quickchart {\n",
              "    background-color: #E8F0FE;\n",
              "    border: none;\n",
              "    border-radius: 50%;\n",
              "    cursor: pointer;\n",
              "    display: none;\n",
              "    fill: #1967D2;\n",
              "    height: 32px;\n",
              "    padding: 0 0 0 0;\n",
              "    width: 32px;\n",
              "  }\n",
              "\n",
              "  .colab-df-quickchart:hover {\n",
              "    background-color: #E2EBFA;\n",
              "    box-shadow: 0px 1px 2px rgba(60, 64, 67, 0.3), 0px 1px 3px 1px rgba(60, 64, 67, 0.15);\n",
              "    fill: #174EA6;\n",
              "  }\n",
              "\n",
              "  [theme=dark] .colab-df-quickchart {\n",
              "    background-color: #3B4455;\n",
              "    fill: #D2E3FC;\n",
              "  }\n",
              "\n",
              "  [theme=dark] .colab-df-quickchart:hover {\n",
              "    background-color: #434B5C;\n",
              "    box-shadow: 0px 1px 3px 1px rgba(0, 0, 0, 0.15);\n",
              "    filter: drop-shadow(0px 1px 2px rgba(0, 0, 0, 0.3));\n",
              "    fill: #FFFFFF;\n",
              "  }\n",
              "</style>\n",
              "\n",
              "    <script>\n",
              "      async function quickchart(key) {\n",
              "        const containerElement = document.querySelector('#' + key);\n",
              "        const charts = await google.colab.kernel.invokeFunction(\n",
              "            'suggestCharts', [key], {});\n",
              "      }\n",
              "    </script>\n",
              "\n",
              "      <script>\n",
              "\n",
              "function displayQuickchartButton(domScope) {\n",
              "  let quickchartButtonEl =\n",
              "    domScope.querySelector('#df-cd5da17b-5842-4696-b458-8bf886b2d729 button.colab-df-quickchart');\n",
              "  quickchartButtonEl.style.display =\n",
              "    google.colab.kernel.accessAllowed ? 'block' : 'none';\n",
              "}\n",
              "\n",
              "        displayQuickchartButton(document);\n",
              "      </script>\n",
              "      <style>\n",
              "    .colab-df-container {\n",
              "      display:flex;\n",
              "      flex-wrap:wrap;\n",
              "      gap: 12px;\n",
              "    }\n",
              "\n",
              "    .colab-df-convert {\n",
              "      background-color: #E8F0FE;\n",
              "      border: none;\n",
              "      border-radius: 50%;\n",
              "      cursor: pointer;\n",
              "      display: none;\n",
              "      fill: #1967D2;\n",
              "      height: 32px;\n",
              "      padding: 0 0 0 0;\n",
              "      width: 32px;\n",
              "    }\n",
              "\n",
              "    .colab-df-convert:hover {\n",
              "      background-color: #E2EBFA;\n",
              "      box-shadow: 0px 1px 2px rgba(60, 64, 67, 0.3), 0px 1px 3px 1px rgba(60, 64, 67, 0.15);\n",
              "      fill: #174EA6;\n",
              "    }\n",
              "\n",
              "    [theme=dark] .colab-df-convert {\n",
              "      background-color: #3B4455;\n",
              "      fill: #D2E3FC;\n",
              "    }\n",
              "\n",
              "    [theme=dark] .colab-df-convert:hover {\n",
              "      background-color: #434B5C;\n",
              "      box-shadow: 0px 1px 3px 1px rgba(0, 0, 0, 0.15);\n",
              "      filter: drop-shadow(0px 1px 2px rgba(0, 0, 0, 0.3));\n",
              "      fill: #FFFFFF;\n",
              "    }\n",
              "  </style>\n",
              "\n",
              "      <script>\n",
              "        const buttonEl =\n",
              "          document.querySelector('#df-109a9873-ddd7-4e2e-ae5d-c6d269cb3dbf button.colab-df-convert');\n",
              "        buttonEl.style.display =\n",
              "          google.colab.kernel.accessAllowed ? 'block' : 'none';\n",
              "\n",
              "        async function convertToInteractive(key) {\n",
              "          const element = document.querySelector('#df-109a9873-ddd7-4e2e-ae5d-c6d269cb3dbf');\n",
              "          const dataTable =\n",
              "            await google.colab.kernel.invokeFunction('convertToInteractive',\n",
              "                                                     [key], {});\n",
              "          if (!dataTable) return;\n",
              "\n",
              "          const docLinkHtml = 'Like what you see? Visit the ' +\n",
              "            '<a target=\"_blank\" href=https://colab.research.google.com/notebooks/data_table.ipynb>data table notebook</a>'\n",
              "            + ' to learn more about interactive tables.';\n",
              "          element.innerHTML = '';\n",
              "          dataTable['output_type'] = 'display_data';\n",
              "          await google.colab.output.renderOutput(dataTable, element);\n",
              "          const docLink = document.createElement('div');\n",
              "          docLink.innerHTML = docLinkHtml;\n",
              "          element.appendChild(docLink);\n",
              "        }\n",
              "      </script>\n",
              "    </div>\n",
              "  </div>\n"
            ]
          },
          "metadata": {},
          "execution_count": 9
        }
      ]
    },
    {
      "cell_type": "markdown",
      "source": [
        "Let's save the number of predictors to n_cols since we will need this number when building our network."
      ],
      "metadata": {
        "id": "24kby_yYS9E2"
      }
    },
    {
      "cell_type": "code",
      "source": [
        "n_cols = predictors_norm.shape[1] # number of predictors\n",
        "n_cols"
      ],
      "metadata": {
        "colab": {
          "base_uri": "https://localhost:8080/"
        },
        "id": "ToBjmkcBS9xg",
        "outputId": "a0c91c3b-9d55-405d-f623-610d44f0d71b"
      },
      "execution_count": null,
      "outputs": [
        {
          "output_type": "execute_result",
          "data": {
            "text/plain": [
              "8"
            ]
          },
          "metadata": {},
          "execution_count": 10
        }
      ]
    },
    {
      "cell_type": "markdown",
      "source": [
        "## **Import Keras**"
      ],
      "metadata": {
        "id": "Hv1vy5WAS_pu"
      }
    },
    {
      "cell_type": "markdown",
      "source": [
        "### Let's go ahead and import the Keras library"
      ],
      "metadata": {
        "id": "_vcDJnbiTFv5"
      }
    },
    {
      "cell_type": "code",
      "source": [
        "import keras"
      ],
      "metadata": {
        "id": "zhWYvLF5S_Q3"
      },
      "execution_count": null,
      "outputs": []
    },
    {
      "cell_type": "markdown",
      "source": [
        "As you can see, the TensorFlow backend was used to install the Keras library.\n",
        "\n",
        "Let's import the rest of the packages from the Keras library that we will need to build our regressoin model."
      ],
      "metadata": {
        "id": "t26OjrUHTLQ9"
      }
    },
    {
      "cell_type": "code",
      "source": [
        "from keras.models import Sequential\n",
        "from keras.layers import Dense"
      ],
      "metadata": {
        "id": "NDd8UrB9TKXG"
      },
      "execution_count": null,
      "outputs": []
    },
    {
      "cell_type": "markdown",
      "source": [
        "## **Build a Neural Network**"
      ],
      "metadata": {
        "id": "0AVSPlj2TYej"
      }
    },
    {
      "cell_type": "markdown",
      "source": [
        "Let's define a function that defines our regression model for us so that we can conveniently call it to create our model."
      ],
      "metadata": {
        "id": "v_A6ZPYkTkPX"
      }
    },
    {
      "cell_type": "code",
      "source": [
        "# define regression model\n",
        "def regression_model():\n",
        "    # create model\n",
        "    model = Sequential()\n",
        "    model.add(Dense(10, activation='relu', input_shape=(n_cols,)))\n",
        "    model.add(Dense(1))\n",
        "\n",
        "    # compile model\n",
        "    model.compile(optimizer='adam', loss='mean_squared_error')\n",
        "    return model"
      ],
      "metadata": {
        "id": "2qPfL6oPTgNy"
      },
      "execution_count": null,
      "outputs": []
    },
    {
      "cell_type": "markdown",
      "source": [
        "The above function creates a model that has one hidden layer with 10 neurons and a ReLU activation function. It uses the adam optimizer and the mean squared error as the loss function.\n",
        "\n",
        "Let's import scikit-learn in order to randomly split the data into a training and test sets"
      ],
      "metadata": {
        "id": "eaPXnODnTqA9"
      }
    },
    {
      "cell_type": "code",
      "source": [
        "from sklearn.model_selection import train_test_split"
      ],
      "metadata": {
        "id": "CkUG8gK2TnMO"
      },
      "execution_count": null,
      "outputs": []
    },
    {
      "cell_type": "markdown",
      "source": [
        "Let's split the data into a training and test sets by holding 30% of the data for testing"
      ],
      "metadata": {
        "id": "Quggr7RDT1YA"
      }
    },
    {
      "cell_type": "code",
      "source": [
        "X_train, X_test, y_train, y_test = train_test_split(predictors, target, test_size=0.3, random_state=42)"
      ],
      "metadata": {
        "id": "3w9-DbZDTyz_"
      },
      "execution_count": null,
      "outputs": []
    },
    {
      "cell_type": "markdown",
      "source": [
        "## **Train and Test the Neural Network**"
      ],
      "metadata": {
        "id": "ramc-uoIT7R0"
      }
    },
    {
      "cell_type": "markdown",
      "source": [
        "Let's call the function now to create our model."
      ],
      "metadata": {
        "id": "22J1dBo7UB0G"
      }
    },
    {
      "cell_type": "code",
      "source": [
        "#build the model\n",
        "model = regression_model()"
      ],
      "metadata": {
        "id": "LFiWVUs4T6o-"
      },
      "execution_count": null,
      "outputs": []
    },
    {
      "cell_type": "markdown",
      "source": [
        "Next, we will train the model for 100 epochs."
      ],
      "metadata": {
        "id": "ng2l85o-UKCC"
      }
    },
    {
      "cell_type": "code",
      "source": [
        "epochs = 100\n",
        "model.fit(X_train, y_train, epochs=epochs, verbose=2)"
      ],
      "metadata": {
        "colab": {
          "base_uri": "https://localhost:8080/"
        },
        "id": "FdDVO-pNUJbW",
        "outputId": "2564c8a9-faa4-4135-f35d-8ea285cd530a"
      },
      "execution_count": null,
      "outputs": [
        {
          "output_type": "stream",
          "name": "stdout",
          "text": [
            "Epoch 1/100\n",
            "23/23 - 1s - loss: 216024.3438 - 990ms/epoch - 43ms/step\n",
            "Epoch 2/100\n",
            "23/23 - 0s - loss: 98794.6406 - 35ms/epoch - 2ms/step\n",
            "Epoch 3/100\n",
            "23/23 - 0s - loss: 29194.2695 - 38ms/epoch - 2ms/step\n",
            "Epoch 4/100\n",
            "23/23 - 0s - loss: 4315.3940 - 35ms/epoch - 2ms/step\n",
            "Epoch 5/100\n",
            "23/23 - 0s - loss: 1973.3499 - 35ms/epoch - 2ms/step\n",
            "Epoch 6/100\n",
            "23/23 - 0s - loss: 1751.5319 - 35ms/epoch - 2ms/step\n",
            "Epoch 7/100\n",
            "23/23 - 0s - loss: 1615.6201 - 42ms/epoch - 2ms/step\n",
            "Epoch 8/100\n",
            "23/23 - 0s - loss: 1464.5441 - 34ms/epoch - 1ms/step\n",
            "Epoch 9/100\n",
            "23/23 - 0s - loss: 1313.5133 - 35ms/epoch - 2ms/step\n",
            "Epoch 10/100\n",
            "23/23 - 0s - loss: 1169.4062 - 34ms/epoch - 1ms/step\n",
            "Epoch 11/100\n",
            "23/23 - 0s - loss: 1042.5306 - 34ms/epoch - 1ms/step\n",
            "Epoch 12/100\n",
            "23/23 - 0s - loss: 940.2201 - 36ms/epoch - 2ms/step\n",
            "Epoch 13/100\n",
            "23/23 - 0s - loss: 850.5742 - 34ms/epoch - 1ms/step\n",
            "Epoch 14/100\n",
            "23/23 - 0s - loss: 781.2543 - 37ms/epoch - 2ms/step\n",
            "Epoch 15/100\n",
            "23/23 - 0s - loss: 722.3308 - 36ms/epoch - 2ms/step\n",
            "Epoch 16/100\n",
            "23/23 - 0s - loss: 669.8960 - 32ms/epoch - 1ms/step\n",
            "Epoch 17/100\n",
            "23/23 - 0s - loss: 628.8817 - 35ms/epoch - 2ms/step\n",
            "Epoch 18/100\n",
            "23/23 - 0s - loss: 588.7318 - 38ms/epoch - 2ms/step\n",
            "Epoch 19/100\n",
            "23/23 - 0s - loss: 550.4477 - 36ms/epoch - 2ms/step\n",
            "Epoch 20/100\n",
            "23/23 - 0s - loss: 519.5216 - 39ms/epoch - 2ms/step\n",
            "Epoch 21/100\n",
            "23/23 - 0s - loss: 497.4820 - 34ms/epoch - 1ms/step\n",
            "Epoch 22/100\n",
            "23/23 - 0s - loss: 461.8806 - 34ms/epoch - 1ms/step\n",
            "Epoch 23/100\n",
            "23/23 - 0s - loss: 437.3541 - 34ms/epoch - 1ms/step\n",
            "Epoch 24/100\n",
            "23/23 - 0s - loss: 414.2034 - 36ms/epoch - 2ms/step\n",
            "Epoch 25/100\n",
            "23/23 - 0s - loss: 393.8650 - 34ms/epoch - 1ms/step\n",
            "Epoch 26/100\n",
            "23/23 - 0s - loss: 372.5489 - 35ms/epoch - 2ms/step\n",
            "Epoch 27/100\n",
            "23/23 - 0s - loss: 356.7248 - 37ms/epoch - 2ms/step\n",
            "Epoch 28/100\n",
            "23/23 - 0s - loss: 337.8815 - 35ms/epoch - 2ms/step\n",
            "Epoch 29/100\n",
            "23/23 - 0s - loss: 322.7566 - 36ms/epoch - 2ms/step\n",
            "Epoch 30/100\n",
            "23/23 - 0s - loss: 311.1531 - 43ms/epoch - 2ms/step\n",
            "Epoch 31/100\n",
            "23/23 - 0s - loss: 296.1594 - 36ms/epoch - 2ms/step\n",
            "Epoch 32/100\n",
            "23/23 - 0s - loss: 284.1716 - 35ms/epoch - 2ms/step\n",
            "Epoch 33/100\n",
            "23/23 - 0s - loss: 272.9027 - 33ms/epoch - 1ms/step\n",
            "Epoch 34/100\n",
            "23/23 - 0s - loss: 264.8282 - 35ms/epoch - 2ms/step\n",
            "Epoch 35/100\n",
            "23/23 - 0s - loss: 253.1014 - 34ms/epoch - 1ms/step\n",
            "Epoch 36/100\n",
            "23/23 - 0s - loss: 243.3513 - 39ms/epoch - 2ms/step\n",
            "Epoch 37/100\n",
            "23/23 - 0s - loss: 237.5407 - 34ms/epoch - 1ms/step\n",
            "Epoch 38/100\n",
            "23/23 - 0s - loss: 228.3649 - 35ms/epoch - 2ms/step\n",
            "Epoch 39/100\n",
            "23/23 - 0s - loss: 221.2811 - 35ms/epoch - 2ms/step\n",
            "Epoch 40/100\n",
            "23/23 - 0s - loss: 215.6971 - 34ms/epoch - 1ms/step\n",
            "Epoch 41/100\n",
            "23/23 - 0s - loss: 211.0406 - 34ms/epoch - 1ms/step\n",
            "Epoch 42/100\n",
            "23/23 - 0s - loss: 203.6048 - 34ms/epoch - 1ms/step\n",
            "Epoch 43/100\n",
            "23/23 - 0s - loss: 199.7076 - 37ms/epoch - 2ms/step\n",
            "Epoch 44/100\n",
            "23/23 - 0s - loss: 194.4289 - 35ms/epoch - 2ms/step\n",
            "Epoch 45/100\n",
            "23/23 - 0s - loss: 190.8134 - 38ms/epoch - 2ms/step\n",
            "Epoch 46/100\n",
            "23/23 - 0s - loss: 187.7547 - 50ms/epoch - 2ms/step\n",
            "Epoch 47/100\n",
            "23/23 - 0s - loss: 182.2623 - 33ms/epoch - 1ms/step\n",
            "Epoch 48/100\n",
            "23/23 - 0s - loss: 180.1934 - 36ms/epoch - 2ms/step\n",
            "Epoch 49/100\n",
            "23/23 - 0s - loss: 175.8438 - 36ms/epoch - 2ms/step\n",
            "Epoch 50/100\n",
            "23/23 - 0s - loss: 172.1662 - 33ms/epoch - 1ms/step\n",
            "Epoch 51/100\n",
            "23/23 - 0s - loss: 170.5999 - 34ms/epoch - 1ms/step\n",
            "Epoch 52/100\n",
            "23/23 - 0s - loss: 170.8557 - 38ms/epoch - 2ms/step\n",
            "Epoch 53/100\n",
            "23/23 - 0s - loss: 165.6002 - 37ms/epoch - 2ms/step\n",
            "Epoch 54/100\n",
            "23/23 - 0s - loss: 162.0062 - 36ms/epoch - 2ms/step\n",
            "Epoch 55/100\n",
            "23/23 - 0s - loss: 160.5239 - 33ms/epoch - 1ms/step\n",
            "Epoch 56/100\n",
            "23/23 - 0s - loss: 157.9133 - 42ms/epoch - 2ms/step\n",
            "Epoch 57/100\n",
            "23/23 - 0s - loss: 155.5295 - 40ms/epoch - 2ms/step\n",
            "Epoch 58/100\n",
            "23/23 - 0s - loss: 156.1618 - 39ms/epoch - 2ms/step\n",
            "Epoch 59/100\n",
            "23/23 - 0s - loss: 153.2686 - 38ms/epoch - 2ms/step\n",
            "Epoch 60/100\n",
            "23/23 - 0s - loss: 150.1106 - 35ms/epoch - 2ms/step\n",
            "Epoch 61/100\n",
            "23/23 - 0s - loss: 150.5302 - 33ms/epoch - 1ms/step\n",
            "Epoch 62/100\n",
            "23/23 - 0s - loss: 149.0053 - 39ms/epoch - 2ms/step\n",
            "Epoch 63/100\n",
            "23/23 - 0s - loss: 146.4320 - 33ms/epoch - 1ms/step\n",
            "Epoch 64/100\n",
            "23/23 - 0s - loss: 145.3795 - 36ms/epoch - 2ms/step\n",
            "Epoch 65/100\n",
            "23/23 - 0s - loss: 142.8394 - 48ms/epoch - 2ms/step\n",
            "Epoch 66/100\n",
            "23/23 - 0s - loss: 140.8772 - 35ms/epoch - 2ms/step\n",
            "Epoch 67/100\n",
            "23/23 - 0s - loss: 143.6351 - 35ms/epoch - 2ms/step\n",
            "Epoch 68/100\n",
            "23/23 - 0s - loss: 141.3310 - 39ms/epoch - 2ms/step\n",
            "Epoch 69/100\n",
            "23/23 - 0s - loss: 137.7071 - 35ms/epoch - 2ms/step\n",
            "Epoch 70/100\n",
            "23/23 - 0s - loss: 141.3279 - 51ms/epoch - 2ms/step\n",
            "Epoch 71/100\n",
            "23/23 - 0s - loss: 142.0979 - 38ms/epoch - 2ms/step\n",
            "Epoch 72/100\n",
            "23/23 - 0s - loss: 134.9456 - 38ms/epoch - 2ms/step\n",
            "Epoch 73/100\n",
            "23/23 - 0s - loss: 133.6490 - 35ms/epoch - 2ms/step\n",
            "Epoch 74/100\n",
            "23/23 - 0s - loss: 133.9391 - 37ms/epoch - 2ms/step\n",
            "Epoch 75/100\n",
            "23/23 - 0s - loss: 132.8023 - 34ms/epoch - 1ms/step\n",
            "Epoch 76/100\n",
            "23/23 - 0s - loss: 131.6344 - 38ms/epoch - 2ms/step\n",
            "Epoch 77/100\n",
            "23/23 - 0s - loss: 137.4209 - 40ms/epoch - 2ms/step\n",
            "Epoch 78/100\n",
            "23/23 - 0s - loss: 131.5643 - 39ms/epoch - 2ms/step\n",
            "Epoch 79/100\n",
            "23/23 - 0s - loss: 129.7277 - 37ms/epoch - 2ms/step\n",
            "Epoch 80/100\n",
            "23/23 - 0s - loss: 128.7862 - 39ms/epoch - 2ms/step\n",
            "Epoch 81/100\n",
            "23/23 - 0s - loss: 129.0334 - 38ms/epoch - 2ms/step\n",
            "Epoch 82/100\n",
            "23/23 - 0s - loss: 129.3327 - 35ms/epoch - 2ms/step\n",
            "Epoch 83/100\n",
            "23/23 - 0s - loss: 129.6801 - 46ms/epoch - 2ms/step\n",
            "Epoch 84/100\n",
            "23/23 - 0s - loss: 129.0726 - 35ms/epoch - 2ms/step\n",
            "Epoch 85/100\n",
            "23/23 - 0s - loss: 126.6413 - 34ms/epoch - 1ms/step\n",
            "Epoch 86/100\n",
            "23/23 - 0s - loss: 126.9825 - 36ms/epoch - 2ms/step\n",
            "Epoch 87/100\n",
            "23/23 - 0s - loss: 127.5996 - 34ms/epoch - 1ms/step\n",
            "Epoch 88/100\n",
            "23/23 - 0s - loss: 125.8025 - 35ms/epoch - 2ms/step\n",
            "Epoch 89/100\n",
            "23/23 - 0s - loss: 124.8808 - 36ms/epoch - 2ms/step\n",
            "Epoch 90/100\n",
            "23/23 - 0s - loss: 126.5330 - 44ms/epoch - 2ms/step\n",
            "Epoch 91/100\n",
            "23/23 - 0s - loss: 127.3555 - 34ms/epoch - 1ms/step\n",
            "Epoch 92/100\n",
            "23/23 - 0s - loss: 124.6305 - 38ms/epoch - 2ms/step\n",
            "Epoch 93/100\n",
            "23/23 - 0s - loss: 124.4243 - 35ms/epoch - 2ms/step\n",
            "Epoch 94/100\n",
            "23/23 - 0s - loss: 124.0926 - 35ms/epoch - 2ms/step\n",
            "Epoch 95/100\n",
            "23/23 - 0s - loss: 122.9487 - 41ms/epoch - 2ms/step\n",
            "Epoch 96/100\n",
            "23/23 - 0s - loss: 123.3089 - 37ms/epoch - 2ms/step\n",
            "Epoch 97/100\n",
            "23/23 - 0s - loss: 124.5360 - 37ms/epoch - 2ms/step\n",
            "Epoch 98/100\n",
            "23/23 - 0s - loss: 126.3299 - 36ms/epoch - 2ms/step\n",
            "Epoch 99/100\n",
            "23/23 - 0s - loss: 121.9720 - 38ms/epoch - 2ms/step\n",
            "Epoch 100/100\n",
            "23/23 - 0s - loss: 121.7418 - 37ms/epoch - 2ms/step\n"
          ]
        },
        {
          "output_type": "execute_result",
          "data": {
            "text/plain": [
              "<keras.callbacks.History at 0x7e473f3eb880>"
            ]
          },
          "metadata": {},
          "execution_count": 18
        }
      ]
    },
    {
      "cell_type": "markdown",
      "source": [
        "Next we need to evaluate the model on the test data."
      ],
      "metadata": {
        "id": "Hr0_gIR4Ul3B"
      }
    },
    {
      "cell_type": "code",
      "source": [
        "loss_val = model.evaluate(X_test, y_test)\n",
        "y_pred = model.predict(X_test)\n",
        "loss_val"
      ],
      "metadata": {
        "colab": {
          "base_uri": "https://localhost:8080/"
        },
        "id": "Yd1WgNNCUdou",
        "outputId": "215dce28-e56b-42a5-8eb1-78dd30bed5f9"
      },
      "execution_count": null,
      "outputs": [
        {
          "output_type": "stream",
          "name": "stdout",
          "text": [
            "10/10 [==============================] - 0s 2ms/step - loss: 111.9650\n",
            "10/10 [==============================] - 0s 2ms/step\n"
          ]
        },
        {
          "output_type": "execute_result",
          "data": {
            "text/plain": [
              "111.96499633789062"
            ]
          },
          "metadata": {},
          "execution_count": 19
        }
      ]
    },
    {
      "cell_type": "markdown",
      "source": [
        "Now we need to compute the mean squared error between the predicted concrete strength and the actual concrete strength.\n",
        "\n",
        "Let's import the mean_squared_error function from Scikit-learn."
      ],
      "metadata": {
        "id": "L6z1VIN-U1Bw"
      }
    },
    {
      "cell_type": "code",
      "source": [
        "from sklearn.metrics import mean_squared_error"
      ],
      "metadata": {
        "id": "Q0NueV9uUyIW"
      },
      "execution_count": null,
      "outputs": []
    },
    {
      "cell_type": "code",
      "source": [
        "mean_square_error = mean_squared_error(y_test, y_pred)\n",
        "mean = np.mean(mean_square_error)\n",
        "standard_deviation = np.std(mean_square_error)\n",
        "print(mean, standard_deviation)"
      ],
      "metadata": {
        "colab": {
          "base_uri": "https://localhost:8080/"
        },
        "id": "eYe3R80QVAxm",
        "outputId": "ad089268-81c7-48d7-b2d5-9b2ddf121651"
      },
      "execution_count": null,
      "outputs": [
        {
          "output_type": "stream",
          "name": "stdout",
          "text": [
            "111.96498094225205 0.0\n"
          ]
        }
      ]
    },
    {
      "cell_type": "markdown",
      "source": [
        "Create a list of 50 mean squared errors and report mean and the standard deviation of the mean squared errors."
      ],
      "metadata": {
        "id": "BlADM1tVVoKP"
      }
    },
    {
      "cell_type": "code",
      "source": [
        "total_mean_squared_errors = 50\n",
        "epochs = 100\n",
        "mean_squared_errors = []\n",
        "for i in range(0, total_mean_squared_errors):\n",
        "    X_train, X_test, y_train, y_test = train_test_split(predictors_norm, target, test_size=0.3, random_state=i)\n",
        "    model.fit(X_train, y_train, epochs=epochs, verbose=0)\n",
        "    MSE = model.evaluate(X_test, y_test, verbose=0)\n",
        "    print(\"MSE \"+str(i+1)+\": \"+str(MSE))\n",
        "    y_pred = model.predict(X_test)\n",
        "    mean_square_error = mean_squared_error(y_test, y_pred)\n",
        "    mean_squared_errors.append(mean_square_error)\n",
        "\n",
        "mean_squared_errors = np.array(mean_squared_errors)\n",
        "mean = np.mean(mean_squared_errors)\n",
        "standard_deviation = np.std(mean_squared_errors)\n",
        "\n",
        "print('\\n')\n",
        "print(\"Below is the mean and standard deviation of \" +str(total_mean_squared_errors) + \" mean squared errors with normalized data. Total number of epochs for each training is: \" +str(epochs) + \"\\n\")\n",
        "print(\"Mean: \"+str(mean))\n",
        "print(\"Standard Deviation: \"+str(standard_deviation))"
      ],
      "metadata": {
        "colab": {
          "base_uri": "https://localhost:8080/"
        },
        "id": "FFj4UTaJVVnX",
        "outputId": "54a72a30-09c5-4c7e-9a59-0426761bfca9"
      },
      "execution_count": null,
      "outputs": [
        {
          "output_type": "stream",
          "name": "stdout",
          "text": [
            "MSE 1: 151.9990997314453\n",
            "10/10 [==============================] - 0s 2ms/step\n",
            "MSE 2: 137.26617431640625\n",
            "10/10 [==============================] - 0s 2ms/step\n",
            "MSE 3: 111.5643081665039\n",
            "10/10 [==============================] - 0s 2ms/step\n",
            "MSE 4: 121.96517181396484\n",
            "10/10 [==============================] - 0s 2ms/step\n",
            "MSE 5: 117.11185455322266\n",
            "10/10 [==============================] - 0s 2ms/step\n",
            "MSE 6: 86.48869323730469\n",
            "10/10 [==============================] - 0s 2ms/step\n",
            "MSE 7: 69.5852279663086\n",
            "10/10 [==============================] - 0s 2ms/step\n",
            "MSE 8: 42.091426849365234\n",
            "10/10 [==============================] - 0s 2ms/step\n",
            "MSE 9: 41.17918014526367\n",
            "10/10 [==============================] - 0s 3ms/step\n",
            "MSE 10: 41.20901870727539\n",
            "10/10 [==============================] - 0s 2ms/step\n",
            "MSE 11: 39.81732177734375\n",
            "10/10 [==============================] - 0s 2ms/step\n",
            "MSE 12: 36.45497131347656\n",
            "10/10 [==============================] - 0s 2ms/step\n",
            "MSE 13: 44.06806182861328\n",
            "10/10 [==============================] - 0s 2ms/step\n",
            "MSE 14: 44.36709976196289\n",
            "10/10 [==============================] - 0s 2ms/step\n",
            "MSE 15: 39.182762145996094\n",
            "10/10 [==============================] - 0s 2ms/step\n",
            "MSE 16: 33.31474685668945\n",
            "10/10 [==============================] - 0s 2ms/step\n",
            "MSE 17: 39.524940490722656\n",
            "10/10 [==============================] - 0s 2ms/step\n",
            "MSE 18: 36.77194595336914\n",
            "10/10 [==============================] - 0s 2ms/step\n",
            "MSE 19: 38.29047393798828\n",
            "10/10 [==============================] - 0s 2ms/step\n",
            "MSE 20: 38.5313606262207\n",
            "10/10 [==============================] - 0s 2ms/step\n",
            "MSE 21: 34.86477279663086\n",
            "10/10 [==============================] - 0s 2ms/step\n",
            "MSE 22: 35.02238082885742\n",
            "10/10 [==============================] - 0s 2ms/step\n",
            "MSE 23: 32.23408508300781\n",
            "10/10 [==============================] - 0s 3ms/step\n",
            "MSE 24: 34.824302673339844\n",
            "10/10 [==============================] - 0s 2ms/step\n",
            "MSE 25: 36.5706901550293\n",
            "10/10 [==============================] - 0s 2ms/step\n",
            "MSE 26: 38.42300796508789\n",
            "10/10 [==============================] - 0s 2ms/step\n",
            "MSE 27: 33.552635192871094\n",
            "10/10 [==============================] - 0s 2ms/step\n",
            "MSE 28: 32.54523849487305\n",
            "10/10 [==============================] - 0s 2ms/step\n",
            "MSE 29: 38.49052810668945\n",
            "10/10 [==============================] - 0s 3ms/step\n",
            "MSE 30: 38.869258880615234\n",
            "10/10 [==============================] - 0s 2ms/step\n",
            "MSE 31: 34.57483673095703\n",
            "10/10 [==============================] - 0s 2ms/step\n",
            "MSE 32: 33.98508834838867\n",
            "10/10 [==============================] - 0s 2ms/step\n",
            "MSE 33: 33.600833892822266\n",
            "10/10 [==============================] - 0s 3ms/step\n",
            "MSE 34: 35.50791549682617\n",
            "10/10 [==============================] - 0s 2ms/step\n",
            "MSE 35: 36.48031234741211\n",
            "10/10 [==============================] - 0s 2ms/step\n",
            "MSE 36: 39.998931884765625\n",
            "10/10 [==============================] - 0s 2ms/step\n",
            "MSE 37: 32.82501220703125\n",
            "10/10 [==============================] - 0s 2ms/step\n",
            "MSE 38: 39.50682830810547\n",
            "10/10 [==============================] - 0s 2ms/step\n",
            "MSE 39: 35.09922409057617\n",
            "10/10 [==============================] - 0s 2ms/step\n",
            "MSE 40: 30.579174041748047\n",
            "10/10 [==============================] - 0s 2ms/step\n",
            "MSE 41: 38.63539505004883\n",
            "10/10 [==============================] - 0s 2ms/step\n",
            "MSE 42: 32.28559494018555\n",
            "10/10 [==============================] - 0s 2ms/step\n",
            "MSE 43: 34.39791488647461\n",
            "10/10 [==============================] - 0s 2ms/step\n",
            "MSE 44: 38.485164642333984\n",
            "10/10 [==============================] - 0s 2ms/step\n",
            "MSE 45: 39.101287841796875\n",
            "10/10 [==============================] - 0s 2ms/step\n",
            "MSE 46: 38.38606643676758\n",
            "10/10 [==============================] - 0s 2ms/step\n",
            "MSE 47: 33.037147521972656\n",
            "10/10 [==============================] - 0s 2ms/step\n",
            "MSE 48: 33.850074768066406\n",
            "10/10 [==============================] - 0s 2ms/step\n",
            "MSE 49: 35.96415710449219\n",
            "10/10 [==============================] - 0s 2ms/step\n",
            "MSE 50: 37.97564697265625\n",
            "10/10 [==============================] - 0s 2ms/step\n",
            "\n",
            "\n",
            "Below is the mean and standard deviation of 50 mean squared errors with normalized data. Total number of epochs for each training is: 100\n",
            "\n",
            "Mean: 47.60914726152291\n",
            "Standard Deviation: 28.569392418116585\n"
          ]
        }
      ]
    },
    {
      "cell_type": "code",
      "source": [],
      "metadata": {
        "id": "jTi224GDV3D1"
      },
      "execution_count": null,
      "outputs": []
    }
  ]
}