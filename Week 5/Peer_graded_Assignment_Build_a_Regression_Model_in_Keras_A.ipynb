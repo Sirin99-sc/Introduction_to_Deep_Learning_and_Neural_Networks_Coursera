{
  "nbformat": 4,
  "nbformat_minor": 0,
  "metadata": {
    "colab": {
      "provenance": [],
      "authorship_tag": "ABX9TyOT5SHQcglPCzLPIaq90Qk4",
      "include_colab_link": true
    },
    "kernelspec": {
      "name": "python3",
      "display_name": "Python 3"
    },
    "language_info": {
      "name": "python"
    }
  },
  "cells": [
    {
      "cell_type": "markdown",
      "metadata": {
        "id": "view-in-github",
        "colab_type": "text"
      },
      "source": [
        "<a href=\"https://colab.research.google.com/github/Sirin99-sc/Introduction_to_Deep_Learning_and_Neural_Networks_Coursera/blob/main/Week%205/Peer_graded_Assignment_Build_a_Regression_Model_in_Keras_A.ipynb\" target=\"_parent\"><img src=\"https://colab.research.google.com/assets/colab-badge.svg\" alt=\"Open In Colab\"/></a>"
      ]
    },
    {
      "cell_type": "markdown",
      "source": [
        "# **Regression Models With Keras**"
      ],
      "metadata": {
        "id": "dB6PTDef9Qv9"
      }
    },
    {
      "cell_type": "markdown",
      "source": [
        "## **Download and Clean Dataset**\n",
        "Let's start by importing the pandas and the Numpy libraries."
      ],
      "metadata": {
        "id": "WwJ-XNkw9kKi"
      }
    },
    {
      "cell_type": "code",
      "source": [
        "import pandas as pd\n",
        "import numpy as np"
      ],
      "metadata": {
        "id": "UF1z-bXK959b"
      },
      "execution_count": 1,
      "outputs": []
    },
    {
      "cell_type": "markdown",
      "source": [
        "We will be using the dataset provided in the assignment\n",
        "\n",
        "**The dataset is about the compressive strength of different samples of concrete based on the volumes of the different ingredients that were used to make them. Ingredients include:**\n",
        "\n",
        "  **1. Cement**\n",
        "\n",
        "  **2. Blast Furnace Slag**\n",
        "\n",
        "**3. Fly Ash**\n",
        "\n",
        "**4. Water**\n",
        "\n",
        "**5. Superplasticizer**\n",
        "\n",
        "**6. Coarse Aggregate**\n",
        "\n",
        "**7. Fine Aggregate**\n",
        "\n",
        "Let's download the data and read it into a *pandas* dataframe.\n",
        "\n"
      ],
      "metadata": {
        "id": "yD9qKTnp-ZiL"
      }
    },
    {
      "cell_type": "code",
      "source": [
        "concrete_data = pd.read_csv('https://s3-api.us-geo.objectstorage.softlayer.net/cf-courses-data/CognitiveClass/DL0101EN/labs/data/concrete_data.csv')\n",
        "concrete_data.head()"
      ],
      "metadata": {
        "colab": {
          "base_uri": "https://localhost:8080/",
          "height": 250
        },
        "id": "BhStkDCl_Gd6",
        "outputId": "9b6ee185-d22f-41e5-a507-417e168df5b2"
      },
      "execution_count": 2,
      "outputs": [
        {
          "output_type": "execute_result",
          "data": {
            "text/plain": [
              "   Cement  Blast Furnace Slag  Fly Ash  Water  Superplasticizer  \\\n",
              "0   540.0                 0.0      0.0  162.0               2.5   \n",
              "1   540.0                 0.0      0.0  162.0               2.5   \n",
              "2   332.5               142.5      0.0  228.0               0.0   \n",
              "3   332.5               142.5      0.0  228.0               0.0   \n",
              "4   198.6               132.4      0.0  192.0               0.0   \n",
              "\n",
              "   Coarse Aggregate  Fine Aggregate  Age  Strength  \n",
              "0            1040.0           676.0   28     79.99  \n",
              "1            1055.0           676.0   28     61.89  \n",
              "2             932.0           594.0  270     40.27  \n",
              "3             932.0           594.0  365     41.05  \n",
              "4             978.4           825.5  360     44.30  "
            ],
            "text/html": [
              "\n",
              "\n",
              "  <div id=\"df-32c195bc-bb7e-4660-8dd0-544645546cac\">\n",
              "    <div class=\"colab-df-container\">\n",
              "      <div>\n",
              "<style scoped>\n",
              "    .dataframe tbody tr th:only-of-type {\n",
              "        vertical-align: middle;\n",
              "    }\n",
              "\n",
              "    .dataframe tbody tr th {\n",
              "        vertical-align: top;\n",
              "    }\n",
              "\n",
              "    .dataframe thead th {\n",
              "        text-align: right;\n",
              "    }\n",
              "</style>\n",
              "<table border=\"1\" class=\"dataframe\">\n",
              "  <thead>\n",
              "    <tr style=\"text-align: right;\">\n",
              "      <th></th>\n",
              "      <th>Cement</th>\n",
              "      <th>Blast Furnace Slag</th>\n",
              "      <th>Fly Ash</th>\n",
              "      <th>Water</th>\n",
              "      <th>Superplasticizer</th>\n",
              "      <th>Coarse Aggregate</th>\n",
              "      <th>Fine Aggregate</th>\n",
              "      <th>Age</th>\n",
              "      <th>Strength</th>\n",
              "    </tr>\n",
              "  </thead>\n",
              "  <tbody>\n",
              "    <tr>\n",
              "      <th>0</th>\n",
              "      <td>540.0</td>\n",
              "      <td>0.0</td>\n",
              "      <td>0.0</td>\n",
              "      <td>162.0</td>\n",
              "      <td>2.5</td>\n",
              "      <td>1040.0</td>\n",
              "      <td>676.0</td>\n",
              "      <td>28</td>\n",
              "      <td>79.99</td>\n",
              "    </tr>\n",
              "    <tr>\n",
              "      <th>1</th>\n",
              "      <td>540.0</td>\n",
              "      <td>0.0</td>\n",
              "      <td>0.0</td>\n",
              "      <td>162.0</td>\n",
              "      <td>2.5</td>\n",
              "      <td>1055.0</td>\n",
              "      <td>676.0</td>\n",
              "      <td>28</td>\n",
              "      <td>61.89</td>\n",
              "    </tr>\n",
              "    <tr>\n",
              "      <th>2</th>\n",
              "      <td>332.5</td>\n",
              "      <td>142.5</td>\n",
              "      <td>0.0</td>\n",
              "      <td>228.0</td>\n",
              "      <td>0.0</td>\n",
              "      <td>932.0</td>\n",
              "      <td>594.0</td>\n",
              "      <td>270</td>\n",
              "      <td>40.27</td>\n",
              "    </tr>\n",
              "    <tr>\n",
              "      <th>3</th>\n",
              "      <td>332.5</td>\n",
              "      <td>142.5</td>\n",
              "      <td>0.0</td>\n",
              "      <td>228.0</td>\n",
              "      <td>0.0</td>\n",
              "      <td>932.0</td>\n",
              "      <td>594.0</td>\n",
              "      <td>365</td>\n",
              "      <td>41.05</td>\n",
              "    </tr>\n",
              "    <tr>\n",
              "      <th>4</th>\n",
              "      <td>198.6</td>\n",
              "      <td>132.4</td>\n",
              "      <td>0.0</td>\n",
              "      <td>192.0</td>\n",
              "      <td>0.0</td>\n",
              "      <td>978.4</td>\n",
              "      <td>825.5</td>\n",
              "      <td>360</td>\n",
              "      <td>44.30</td>\n",
              "    </tr>\n",
              "  </tbody>\n",
              "</table>\n",
              "</div>\n",
              "      <button class=\"colab-df-convert\" onclick=\"convertToInteractive('df-32c195bc-bb7e-4660-8dd0-544645546cac')\"\n",
              "              title=\"Convert this dataframe to an interactive table.\"\n",
              "              style=\"display:none;\">\n",
              "\n",
              "  <svg xmlns=\"http://www.w3.org/2000/svg\" height=\"24px\"viewBox=\"0 0 24 24\"\n",
              "       width=\"24px\">\n",
              "    <path d=\"M0 0h24v24H0V0z\" fill=\"none\"/>\n",
              "    <path d=\"M18.56 5.44l.94 2.06.94-2.06 2.06-.94-2.06-.94-.94-2.06-.94 2.06-2.06.94zm-11 1L8.5 8.5l.94-2.06 2.06-.94-2.06-.94L8.5 2.5l-.94 2.06-2.06.94zm10 10l.94 2.06.94-2.06 2.06-.94-2.06-.94-.94-2.06-.94 2.06-2.06.94z\"/><path d=\"M17.41 7.96l-1.37-1.37c-.4-.4-.92-.59-1.43-.59-.52 0-1.04.2-1.43.59L10.3 9.45l-7.72 7.72c-.78.78-.78 2.05 0 2.83L4 21.41c.39.39.9.59 1.41.59.51 0 1.02-.2 1.41-.59l7.78-7.78 2.81-2.81c.8-.78.8-2.07 0-2.86zM5.41 20L4 18.59l7.72-7.72 1.47 1.35L5.41 20z\"/>\n",
              "  </svg>\n",
              "      </button>\n",
              "\n",
              "\n",
              "\n",
              "    <div id=\"df-1db41abc-cfcd-4e1b-b1dd-4f116c61d6e3\">\n",
              "      <button class=\"colab-df-quickchart\" onclick=\"quickchart('df-1db41abc-cfcd-4e1b-b1dd-4f116c61d6e3')\"\n",
              "              title=\"Suggest charts.\"\n",
              "              style=\"display:none;\">\n",
              "\n",
              "<svg xmlns=\"http://www.w3.org/2000/svg\" height=\"24px\"viewBox=\"0 0 24 24\"\n",
              "     width=\"24px\">\n",
              "    <g>\n",
              "        <path d=\"M19 3H5c-1.1 0-2 .9-2 2v14c0 1.1.9 2 2 2h14c1.1 0 2-.9 2-2V5c0-1.1-.9-2-2-2zM9 17H7v-7h2v7zm4 0h-2V7h2v10zm4 0h-2v-4h2v4z\"/>\n",
              "    </g>\n",
              "</svg>\n",
              "      </button>\n",
              "    </div>\n",
              "\n",
              "<style>\n",
              "  .colab-df-quickchart {\n",
              "    background-color: #E8F0FE;\n",
              "    border: none;\n",
              "    border-radius: 50%;\n",
              "    cursor: pointer;\n",
              "    display: none;\n",
              "    fill: #1967D2;\n",
              "    height: 32px;\n",
              "    padding: 0 0 0 0;\n",
              "    width: 32px;\n",
              "  }\n",
              "\n",
              "  .colab-df-quickchart:hover {\n",
              "    background-color: #E2EBFA;\n",
              "    box-shadow: 0px 1px 2px rgba(60, 64, 67, 0.3), 0px 1px 3px 1px rgba(60, 64, 67, 0.15);\n",
              "    fill: #174EA6;\n",
              "  }\n",
              "\n",
              "  [theme=dark] .colab-df-quickchart {\n",
              "    background-color: #3B4455;\n",
              "    fill: #D2E3FC;\n",
              "  }\n",
              "\n",
              "  [theme=dark] .colab-df-quickchart:hover {\n",
              "    background-color: #434B5C;\n",
              "    box-shadow: 0px 1px 3px 1px rgba(0, 0, 0, 0.15);\n",
              "    filter: drop-shadow(0px 1px 2px rgba(0, 0, 0, 0.3));\n",
              "    fill: #FFFFFF;\n",
              "  }\n",
              "</style>\n",
              "\n",
              "    <script>\n",
              "      async function quickchart(key) {\n",
              "        const containerElement = document.querySelector('#' + key);\n",
              "        const charts = await google.colab.kernel.invokeFunction(\n",
              "            'suggestCharts', [key], {});\n",
              "      }\n",
              "    </script>\n",
              "\n",
              "      <script>\n",
              "\n",
              "function displayQuickchartButton(domScope) {\n",
              "  let quickchartButtonEl =\n",
              "    domScope.querySelector('#df-1db41abc-cfcd-4e1b-b1dd-4f116c61d6e3 button.colab-df-quickchart');\n",
              "  quickchartButtonEl.style.display =\n",
              "    google.colab.kernel.accessAllowed ? 'block' : 'none';\n",
              "}\n",
              "\n",
              "        displayQuickchartButton(document);\n",
              "      </script>\n",
              "      <style>\n",
              "    .colab-df-container {\n",
              "      display:flex;\n",
              "      flex-wrap:wrap;\n",
              "      gap: 12px;\n",
              "    }\n",
              "\n",
              "    .colab-df-convert {\n",
              "      background-color: #E8F0FE;\n",
              "      border: none;\n",
              "      border-radius: 50%;\n",
              "      cursor: pointer;\n",
              "      display: none;\n",
              "      fill: #1967D2;\n",
              "      height: 32px;\n",
              "      padding: 0 0 0 0;\n",
              "      width: 32px;\n",
              "    }\n",
              "\n",
              "    .colab-df-convert:hover {\n",
              "      background-color: #E2EBFA;\n",
              "      box-shadow: 0px 1px 2px rgba(60, 64, 67, 0.3), 0px 1px 3px 1px rgba(60, 64, 67, 0.15);\n",
              "      fill: #174EA6;\n",
              "    }\n",
              "\n",
              "    [theme=dark] .colab-df-convert {\n",
              "      background-color: #3B4455;\n",
              "      fill: #D2E3FC;\n",
              "    }\n",
              "\n",
              "    [theme=dark] .colab-df-convert:hover {\n",
              "      background-color: #434B5C;\n",
              "      box-shadow: 0px 1px 3px 1px rgba(0, 0, 0, 0.15);\n",
              "      filter: drop-shadow(0px 1px 2px rgba(0, 0, 0, 0.3));\n",
              "      fill: #FFFFFF;\n",
              "    }\n",
              "  </style>\n",
              "\n",
              "      <script>\n",
              "        const buttonEl =\n",
              "          document.querySelector('#df-32c195bc-bb7e-4660-8dd0-544645546cac button.colab-df-convert');\n",
              "        buttonEl.style.display =\n",
              "          google.colab.kernel.accessAllowed ? 'block' : 'none';\n",
              "\n",
              "        async function convertToInteractive(key) {\n",
              "          const element = document.querySelector('#df-32c195bc-bb7e-4660-8dd0-544645546cac');\n",
              "          const dataTable =\n",
              "            await google.colab.kernel.invokeFunction('convertToInteractive',\n",
              "                                                     [key], {});\n",
              "          if (!dataTable) return;\n",
              "\n",
              "          const docLinkHtml = 'Like what you see? Visit the ' +\n",
              "            '<a target=\"_blank\" href=https://colab.research.google.com/notebooks/data_table.ipynb>data table notebook</a>'\n",
              "            + ' to learn more about interactive tables.';\n",
              "          element.innerHTML = '';\n",
              "          dataTable['output_type'] = 'display_data';\n",
              "          await google.colab.output.renderOutput(dataTable, element);\n",
              "          const docLink = document.createElement('div');\n",
              "          docLink.innerHTML = docLinkHtml;\n",
              "          element.appendChild(docLink);\n",
              "        }\n",
              "      </script>\n",
              "    </div>\n",
              "  </div>\n"
            ]
          },
          "metadata": {},
          "execution_count": 2
        }
      ]
    },
    {
      "cell_type": "markdown",
      "source": [
        "So the first concrete sample has 540 cubic meter of cement, 0 cubic meter of blast furnace slag, 0 cubic meter of fly ash, 162 cubic meter of water, 2.5 cubic meter of superplaticizer, 1040 cubic meter of coarse aggregate, 676 cubic meter of fine aggregate. Such a concrete mix which is 28 days old, has a compressive strength of 79.99 MPa."
      ],
      "metadata": {
        "id": "YXlDgrNx_vK8"
      }
    },
    {
      "cell_type": "markdown",
      "source": [
        "### Let's check how many data points we have"
      ],
      "metadata": {
        "id": "mua_i3F9_7w8"
      }
    },
    {
      "cell_type": "code",
      "source": [
        "concrete_data.shape"
      ],
      "metadata": {
        "colab": {
          "base_uri": "https://localhost:8080/"
        },
        "id": "RfUeSKHbABXY",
        "outputId": "a6ae4e46-ee03-40f1-f34b-e9d6c39509be"
      },
      "execution_count": 3,
      "outputs": [
        {
          "output_type": "execute_result",
          "data": {
            "text/plain": [
              "(1030, 9)"
            ]
          },
          "metadata": {},
          "execution_count": 3
        }
      ]
    },
    {
      "cell_type": "markdown",
      "source": [
        "So, there are approximately 1000 samples to train our model on. Because of the few samples, we have to be careful not to overfit the training data.\n",
        "\n",
        "Let's check the dataset for any missing values."
      ],
      "metadata": {
        "id": "zhGfQucoAVsu"
      }
    },
    {
      "cell_type": "code",
      "source": [
        "concrete_data.describe()"
      ],
      "metadata": {
        "colab": {
          "base_uri": "https://localhost:8080/",
          "height": 399
        },
        "id": "o28dMZDu_1AK",
        "outputId": "883607a7-652c-4888-81aa-7fcca5614a3a"
      },
      "execution_count": 4,
      "outputs": [
        {
          "output_type": "execute_result",
          "data": {
            "text/plain": [
              "            Cement  Blast Furnace Slag      Fly Ash        Water  \\\n",
              "count  1030.000000         1030.000000  1030.000000  1030.000000   \n",
              "mean    281.167864           73.895825    54.188350   181.567282   \n",
              "std     104.506364           86.279342    63.997004    21.354219   \n",
              "min     102.000000            0.000000     0.000000   121.800000   \n",
              "25%     192.375000            0.000000     0.000000   164.900000   \n",
              "50%     272.900000           22.000000     0.000000   185.000000   \n",
              "75%     350.000000          142.950000   118.300000   192.000000   \n",
              "max     540.000000          359.400000   200.100000   247.000000   \n",
              "\n",
              "       Superplasticizer  Coarse Aggregate  Fine Aggregate          Age  \\\n",
              "count       1030.000000       1030.000000     1030.000000  1030.000000   \n",
              "mean           6.204660        972.918932      773.580485    45.662136   \n",
              "std            5.973841         77.753954       80.175980    63.169912   \n",
              "min            0.000000        801.000000      594.000000     1.000000   \n",
              "25%            0.000000        932.000000      730.950000     7.000000   \n",
              "50%            6.400000        968.000000      779.500000    28.000000   \n",
              "75%           10.200000       1029.400000      824.000000    56.000000   \n",
              "max           32.200000       1145.000000      992.600000   365.000000   \n",
              "\n",
              "          Strength  \n",
              "count  1030.000000  \n",
              "mean     35.817961  \n",
              "std      16.705742  \n",
              "min       2.330000  \n",
              "25%      23.710000  \n",
              "50%      34.445000  \n",
              "75%      46.135000  \n",
              "max      82.600000  "
            ],
            "text/html": [
              "\n",
              "\n",
              "  <div id=\"df-b457857d-c242-48c9-88b2-212bbf34301f\">\n",
              "    <div class=\"colab-df-container\">\n",
              "      <div>\n",
              "<style scoped>\n",
              "    .dataframe tbody tr th:only-of-type {\n",
              "        vertical-align: middle;\n",
              "    }\n",
              "\n",
              "    .dataframe tbody tr th {\n",
              "        vertical-align: top;\n",
              "    }\n",
              "\n",
              "    .dataframe thead th {\n",
              "        text-align: right;\n",
              "    }\n",
              "</style>\n",
              "<table border=\"1\" class=\"dataframe\">\n",
              "  <thead>\n",
              "    <tr style=\"text-align: right;\">\n",
              "      <th></th>\n",
              "      <th>Cement</th>\n",
              "      <th>Blast Furnace Slag</th>\n",
              "      <th>Fly Ash</th>\n",
              "      <th>Water</th>\n",
              "      <th>Superplasticizer</th>\n",
              "      <th>Coarse Aggregate</th>\n",
              "      <th>Fine Aggregate</th>\n",
              "      <th>Age</th>\n",
              "      <th>Strength</th>\n",
              "    </tr>\n",
              "  </thead>\n",
              "  <tbody>\n",
              "    <tr>\n",
              "      <th>count</th>\n",
              "      <td>1030.000000</td>\n",
              "      <td>1030.000000</td>\n",
              "      <td>1030.000000</td>\n",
              "      <td>1030.000000</td>\n",
              "      <td>1030.000000</td>\n",
              "      <td>1030.000000</td>\n",
              "      <td>1030.000000</td>\n",
              "      <td>1030.000000</td>\n",
              "      <td>1030.000000</td>\n",
              "    </tr>\n",
              "    <tr>\n",
              "      <th>mean</th>\n",
              "      <td>281.167864</td>\n",
              "      <td>73.895825</td>\n",
              "      <td>54.188350</td>\n",
              "      <td>181.567282</td>\n",
              "      <td>6.204660</td>\n",
              "      <td>972.918932</td>\n",
              "      <td>773.580485</td>\n",
              "      <td>45.662136</td>\n",
              "      <td>35.817961</td>\n",
              "    </tr>\n",
              "    <tr>\n",
              "      <th>std</th>\n",
              "      <td>104.506364</td>\n",
              "      <td>86.279342</td>\n",
              "      <td>63.997004</td>\n",
              "      <td>21.354219</td>\n",
              "      <td>5.973841</td>\n",
              "      <td>77.753954</td>\n",
              "      <td>80.175980</td>\n",
              "      <td>63.169912</td>\n",
              "      <td>16.705742</td>\n",
              "    </tr>\n",
              "    <tr>\n",
              "      <th>min</th>\n",
              "      <td>102.000000</td>\n",
              "      <td>0.000000</td>\n",
              "      <td>0.000000</td>\n",
              "      <td>121.800000</td>\n",
              "      <td>0.000000</td>\n",
              "      <td>801.000000</td>\n",
              "      <td>594.000000</td>\n",
              "      <td>1.000000</td>\n",
              "      <td>2.330000</td>\n",
              "    </tr>\n",
              "    <tr>\n",
              "      <th>25%</th>\n",
              "      <td>192.375000</td>\n",
              "      <td>0.000000</td>\n",
              "      <td>0.000000</td>\n",
              "      <td>164.900000</td>\n",
              "      <td>0.000000</td>\n",
              "      <td>932.000000</td>\n",
              "      <td>730.950000</td>\n",
              "      <td>7.000000</td>\n",
              "      <td>23.710000</td>\n",
              "    </tr>\n",
              "    <tr>\n",
              "      <th>50%</th>\n",
              "      <td>272.900000</td>\n",
              "      <td>22.000000</td>\n",
              "      <td>0.000000</td>\n",
              "      <td>185.000000</td>\n",
              "      <td>6.400000</td>\n",
              "      <td>968.000000</td>\n",
              "      <td>779.500000</td>\n",
              "      <td>28.000000</td>\n",
              "      <td>34.445000</td>\n",
              "    </tr>\n",
              "    <tr>\n",
              "      <th>75%</th>\n",
              "      <td>350.000000</td>\n",
              "      <td>142.950000</td>\n",
              "      <td>118.300000</td>\n",
              "      <td>192.000000</td>\n",
              "      <td>10.200000</td>\n",
              "      <td>1029.400000</td>\n",
              "      <td>824.000000</td>\n",
              "      <td>56.000000</td>\n",
              "      <td>46.135000</td>\n",
              "    </tr>\n",
              "    <tr>\n",
              "      <th>max</th>\n",
              "      <td>540.000000</td>\n",
              "      <td>359.400000</td>\n",
              "      <td>200.100000</td>\n",
              "      <td>247.000000</td>\n",
              "      <td>32.200000</td>\n",
              "      <td>1145.000000</td>\n",
              "      <td>992.600000</td>\n",
              "      <td>365.000000</td>\n",
              "      <td>82.600000</td>\n",
              "    </tr>\n",
              "  </tbody>\n",
              "</table>\n",
              "</div>\n",
              "      <button class=\"colab-df-convert\" onclick=\"convertToInteractive('df-b457857d-c242-48c9-88b2-212bbf34301f')\"\n",
              "              title=\"Convert this dataframe to an interactive table.\"\n",
              "              style=\"display:none;\">\n",
              "\n",
              "  <svg xmlns=\"http://www.w3.org/2000/svg\" height=\"24px\"viewBox=\"0 0 24 24\"\n",
              "       width=\"24px\">\n",
              "    <path d=\"M0 0h24v24H0V0z\" fill=\"none\"/>\n",
              "    <path d=\"M18.56 5.44l.94 2.06.94-2.06 2.06-.94-2.06-.94-.94-2.06-.94 2.06-2.06.94zm-11 1L8.5 8.5l.94-2.06 2.06-.94-2.06-.94L8.5 2.5l-.94 2.06-2.06.94zm10 10l.94 2.06.94-2.06 2.06-.94-2.06-.94-.94-2.06-.94 2.06-2.06.94z\"/><path d=\"M17.41 7.96l-1.37-1.37c-.4-.4-.92-.59-1.43-.59-.52 0-1.04.2-1.43.59L10.3 9.45l-7.72 7.72c-.78.78-.78 2.05 0 2.83L4 21.41c.39.39.9.59 1.41.59.51 0 1.02-.2 1.41-.59l7.78-7.78 2.81-2.81c.8-.78.8-2.07 0-2.86zM5.41 20L4 18.59l7.72-7.72 1.47 1.35L5.41 20z\"/>\n",
              "  </svg>\n",
              "      </button>\n",
              "\n",
              "\n",
              "\n",
              "    <div id=\"df-b78c3f30-ab65-49bd-bbf7-b8ace2d2b820\">\n",
              "      <button class=\"colab-df-quickchart\" onclick=\"quickchart('df-b78c3f30-ab65-49bd-bbf7-b8ace2d2b820')\"\n",
              "              title=\"Suggest charts.\"\n",
              "              style=\"display:none;\">\n",
              "\n",
              "<svg xmlns=\"http://www.w3.org/2000/svg\" height=\"24px\"viewBox=\"0 0 24 24\"\n",
              "     width=\"24px\">\n",
              "    <g>\n",
              "        <path d=\"M19 3H5c-1.1 0-2 .9-2 2v14c0 1.1.9 2 2 2h14c1.1 0 2-.9 2-2V5c0-1.1-.9-2-2-2zM9 17H7v-7h2v7zm4 0h-2V7h2v10zm4 0h-2v-4h2v4z\"/>\n",
              "    </g>\n",
              "</svg>\n",
              "      </button>\n",
              "    </div>\n",
              "\n",
              "<style>\n",
              "  .colab-df-quickchart {\n",
              "    background-color: #E8F0FE;\n",
              "    border: none;\n",
              "    border-radius: 50%;\n",
              "    cursor: pointer;\n",
              "    display: none;\n",
              "    fill: #1967D2;\n",
              "    height: 32px;\n",
              "    padding: 0 0 0 0;\n",
              "    width: 32px;\n",
              "  }\n",
              "\n",
              "  .colab-df-quickchart:hover {\n",
              "    background-color: #E2EBFA;\n",
              "    box-shadow: 0px 1px 2px rgba(60, 64, 67, 0.3), 0px 1px 3px 1px rgba(60, 64, 67, 0.15);\n",
              "    fill: #174EA6;\n",
              "  }\n",
              "\n",
              "  [theme=dark] .colab-df-quickchart {\n",
              "    background-color: #3B4455;\n",
              "    fill: #D2E3FC;\n",
              "  }\n",
              "\n",
              "  [theme=dark] .colab-df-quickchart:hover {\n",
              "    background-color: #434B5C;\n",
              "    box-shadow: 0px 1px 3px 1px rgba(0, 0, 0, 0.15);\n",
              "    filter: drop-shadow(0px 1px 2px rgba(0, 0, 0, 0.3));\n",
              "    fill: #FFFFFF;\n",
              "  }\n",
              "</style>\n",
              "\n",
              "    <script>\n",
              "      async function quickchart(key) {\n",
              "        const containerElement = document.querySelector('#' + key);\n",
              "        const charts = await google.colab.kernel.invokeFunction(\n",
              "            'suggestCharts', [key], {});\n",
              "      }\n",
              "    </script>\n",
              "\n",
              "      <script>\n",
              "\n",
              "function displayQuickchartButton(domScope) {\n",
              "  let quickchartButtonEl =\n",
              "    domScope.querySelector('#df-b78c3f30-ab65-49bd-bbf7-b8ace2d2b820 button.colab-df-quickchart');\n",
              "  quickchartButtonEl.style.display =\n",
              "    google.colab.kernel.accessAllowed ? 'block' : 'none';\n",
              "}\n",
              "\n",
              "        displayQuickchartButton(document);\n",
              "      </script>\n",
              "      <style>\n",
              "    .colab-df-container {\n",
              "      display:flex;\n",
              "      flex-wrap:wrap;\n",
              "      gap: 12px;\n",
              "    }\n",
              "\n",
              "    .colab-df-convert {\n",
              "      background-color: #E8F0FE;\n",
              "      border: none;\n",
              "      border-radius: 50%;\n",
              "      cursor: pointer;\n",
              "      display: none;\n",
              "      fill: #1967D2;\n",
              "      height: 32px;\n",
              "      padding: 0 0 0 0;\n",
              "      width: 32px;\n",
              "    }\n",
              "\n",
              "    .colab-df-convert:hover {\n",
              "      background-color: #E2EBFA;\n",
              "      box-shadow: 0px 1px 2px rgba(60, 64, 67, 0.3), 0px 1px 3px 1px rgba(60, 64, 67, 0.15);\n",
              "      fill: #174EA6;\n",
              "    }\n",
              "\n",
              "    [theme=dark] .colab-df-convert {\n",
              "      background-color: #3B4455;\n",
              "      fill: #D2E3FC;\n",
              "    }\n",
              "\n",
              "    [theme=dark] .colab-df-convert:hover {\n",
              "      background-color: #434B5C;\n",
              "      box-shadow: 0px 1px 3px 1px rgba(0, 0, 0, 0.15);\n",
              "      filter: drop-shadow(0px 1px 2px rgba(0, 0, 0, 0.3));\n",
              "      fill: #FFFFFF;\n",
              "    }\n",
              "  </style>\n",
              "\n",
              "      <script>\n",
              "        const buttonEl =\n",
              "          document.querySelector('#df-b457857d-c242-48c9-88b2-212bbf34301f button.colab-df-convert');\n",
              "        buttonEl.style.display =\n",
              "          google.colab.kernel.accessAllowed ? 'block' : 'none';\n",
              "\n",
              "        async function convertToInteractive(key) {\n",
              "          const element = document.querySelector('#df-b457857d-c242-48c9-88b2-212bbf34301f');\n",
              "          const dataTable =\n",
              "            await google.colab.kernel.invokeFunction('convertToInteractive',\n",
              "                                                     [key], {});\n",
              "          if (!dataTable) return;\n",
              "\n",
              "          const docLinkHtml = 'Like what you see? Visit the ' +\n",
              "            '<a target=\"_blank\" href=https://colab.research.google.com/notebooks/data_table.ipynb>data table notebook</a>'\n",
              "            + ' to learn more about interactive tables.';\n",
              "          element.innerHTML = '';\n",
              "          dataTable['output_type'] = 'display_data';\n",
              "          await google.colab.output.renderOutput(dataTable, element);\n",
              "          const docLink = document.createElement('div');\n",
              "          docLink.innerHTML = docLinkHtml;\n",
              "          element.appendChild(docLink);\n",
              "        }\n",
              "      </script>\n",
              "    </div>\n",
              "  </div>\n"
            ]
          },
          "metadata": {},
          "execution_count": 4
        }
      ]
    },
    {
      "cell_type": "code",
      "source": [
        "concrete_data.isnull().sum()"
      ],
      "metadata": {
        "colab": {
          "base_uri": "https://localhost:8080/"
        },
        "id": "moS2l0txAiDu",
        "outputId": "234ff3c1-9d7a-4911-bf6f-d21079264719"
      },
      "execution_count": 5,
      "outputs": [
        {
          "output_type": "execute_result",
          "data": {
            "text/plain": [
              "Cement                0\n",
              "Blast Furnace Slag    0\n",
              "Fly Ash               0\n",
              "Water                 0\n",
              "Superplasticizer      0\n",
              "Coarse Aggregate      0\n",
              "Fine Aggregate        0\n",
              "Age                   0\n",
              "Strength              0\n",
              "dtype: int64"
            ]
          },
          "metadata": {},
          "execution_count": 5
        }
      ]
    },
    {
      "cell_type": "markdown",
      "source": [
        "The data looks very clean and is ready to be used to build our model."
      ],
      "metadata": {
        "id": "0uc4pE_BAt2o"
      }
    },
    {
      "cell_type": "markdown",
      "source": [
        "### Split data into predictors and target"
      ],
      "metadata": {
        "id": "RIvQ7chEA1KO"
      }
    },
    {
      "cell_type": "markdown",
      "source": [
        "The target variable in this problem is the concrete sample strength. Therefore, our predictors will be all the other columns."
      ],
      "metadata": {
        "id": "Xov97Z17BDfT"
      }
    },
    {
      "cell_type": "code",
      "source": [
        "concrete_data_columns = concrete_data.columns\n",
        "\n",
        "predictors = concrete_data[concrete_data_columns[concrete_data_columns != 'Strength']] # all columns except Strength\n",
        "target = concrete_data['Strength'] # Strength column"
      ],
      "metadata": {
        "id": "PyiEBoW1AqZ1"
      },
      "execution_count": 6,
      "outputs": []
    },
    {
      "cell_type": "markdown",
      "source": [
        "Let's do a quick sanity check of the predictors and the target dataframes."
      ],
      "metadata": {
        "id": "T9HKNfe3BkkQ"
      }
    },
    {
      "cell_type": "code",
      "source": [
        "predictors.head()"
      ],
      "metadata": {
        "colab": {
          "base_uri": "https://localhost:8080/",
          "height": 206
        },
        "id": "gtUnPC2aBLbu",
        "outputId": "ef7da36d-e83c-4615-9fac-89a2450db27e"
      },
      "execution_count": 7,
      "outputs": [
        {
          "output_type": "execute_result",
          "data": {
            "text/plain": [
              "   Cement  Blast Furnace Slag  Fly Ash  Water  Superplasticizer  \\\n",
              "0   540.0                 0.0      0.0  162.0               2.5   \n",
              "1   540.0                 0.0      0.0  162.0               2.5   \n",
              "2   332.5               142.5      0.0  228.0               0.0   \n",
              "3   332.5               142.5      0.0  228.0               0.0   \n",
              "4   198.6               132.4      0.0  192.0               0.0   \n",
              "\n",
              "   Coarse Aggregate  Fine Aggregate  Age  \n",
              "0            1040.0           676.0   28  \n",
              "1            1055.0           676.0   28  \n",
              "2             932.0           594.0  270  \n",
              "3             932.0           594.0  365  \n",
              "4             978.4           825.5  360  "
            ],
            "text/html": [
              "\n",
              "\n",
              "  <div id=\"df-5ac0633e-a18e-4f8c-84b0-5d4af47fc522\">\n",
              "    <div class=\"colab-df-container\">\n",
              "      <div>\n",
              "<style scoped>\n",
              "    .dataframe tbody tr th:only-of-type {\n",
              "        vertical-align: middle;\n",
              "    }\n",
              "\n",
              "    .dataframe tbody tr th {\n",
              "        vertical-align: top;\n",
              "    }\n",
              "\n",
              "    .dataframe thead th {\n",
              "        text-align: right;\n",
              "    }\n",
              "</style>\n",
              "<table border=\"1\" class=\"dataframe\">\n",
              "  <thead>\n",
              "    <tr style=\"text-align: right;\">\n",
              "      <th></th>\n",
              "      <th>Cement</th>\n",
              "      <th>Blast Furnace Slag</th>\n",
              "      <th>Fly Ash</th>\n",
              "      <th>Water</th>\n",
              "      <th>Superplasticizer</th>\n",
              "      <th>Coarse Aggregate</th>\n",
              "      <th>Fine Aggregate</th>\n",
              "      <th>Age</th>\n",
              "    </tr>\n",
              "  </thead>\n",
              "  <tbody>\n",
              "    <tr>\n",
              "      <th>0</th>\n",
              "      <td>540.0</td>\n",
              "      <td>0.0</td>\n",
              "      <td>0.0</td>\n",
              "      <td>162.0</td>\n",
              "      <td>2.5</td>\n",
              "      <td>1040.0</td>\n",
              "      <td>676.0</td>\n",
              "      <td>28</td>\n",
              "    </tr>\n",
              "    <tr>\n",
              "      <th>1</th>\n",
              "      <td>540.0</td>\n",
              "      <td>0.0</td>\n",
              "      <td>0.0</td>\n",
              "      <td>162.0</td>\n",
              "      <td>2.5</td>\n",
              "      <td>1055.0</td>\n",
              "      <td>676.0</td>\n",
              "      <td>28</td>\n",
              "    </tr>\n",
              "    <tr>\n",
              "      <th>2</th>\n",
              "      <td>332.5</td>\n",
              "      <td>142.5</td>\n",
              "      <td>0.0</td>\n",
              "      <td>228.0</td>\n",
              "      <td>0.0</td>\n",
              "      <td>932.0</td>\n",
              "      <td>594.0</td>\n",
              "      <td>270</td>\n",
              "    </tr>\n",
              "    <tr>\n",
              "      <th>3</th>\n",
              "      <td>332.5</td>\n",
              "      <td>142.5</td>\n",
              "      <td>0.0</td>\n",
              "      <td>228.0</td>\n",
              "      <td>0.0</td>\n",
              "      <td>932.0</td>\n",
              "      <td>594.0</td>\n",
              "      <td>365</td>\n",
              "    </tr>\n",
              "    <tr>\n",
              "      <th>4</th>\n",
              "      <td>198.6</td>\n",
              "      <td>132.4</td>\n",
              "      <td>0.0</td>\n",
              "      <td>192.0</td>\n",
              "      <td>0.0</td>\n",
              "      <td>978.4</td>\n",
              "      <td>825.5</td>\n",
              "      <td>360</td>\n",
              "    </tr>\n",
              "  </tbody>\n",
              "</table>\n",
              "</div>\n",
              "      <button class=\"colab-df-convert\" onclick=\"convertToInteractive('df-5ac0633e-a18e-4f8c-84b0-5d4af47fc522')\"\n",
              "              title=\"Convert this dataframe to an interactive table.\"\n",
              "              style=\"display:none;\">\n",
              "\n",
              "  <svg xmlns=\"http://www.w3.org/2000/svg\" height=\"24px\"viewBox=\"0 0 24 24\"\n",
              "       width=\"24px\">\n",
              "    <path d=\"M0 0h24v24H0V0z\" fill=\"none\"/>\n",
              "    <path d=\"M18.56 5.44l.94 2.06.94-2.06 2.06-.94-2.06-.94-.94-2.06-.94 2.06-2.06.94zm-11 1L8.5 8.5l.94-2.06 2.06-.94-2.06-.94L8.5 2.5l-.94 2.06-2.06.94zm10 10l.94 2.06.94-2.06 2.06-.94-2.06-.94-.94-2.06-.94 2.06-2.06.94z\"/><path d=\"M17.41 7.96l-1.37-1.37c-.4-.4-.92-.59-1.43-.59-.52 0-1.04.2-1.43.59L10.3 9.45l-7.72 7.72c-.78.78-.78 2.05 0 2.83L4 21.41c.39.39.9.59 1.41.59.51 0 1.02-.2 1.41-.59l7.78-7.78 2.81-2.81c.8-.78.8-2.07 0-2.86zM5.41 20L4 18.59l7.72-7.72 1.47 1.35L5.41 20z\"/>\n",
              "  </svg>\n",
              "      </button>\n",
              "\n",
              "\n",
              "\n",
              "    <div id=\"df-8e7f2d6a-772e-4790-886e-60bc46f3e463\">\n",
              "      <button class=\"colab-df-quickchart\" onclick=\"quickchart('df-8e7f2d6a-772e-4790-886e-60bc46f3e463')\"\n",
              "              title=\"Suggest charts.\"\n",
              "              style=\"display:none;\">\n",
              "\n",
              "<svg xmlns=\"http://www.w3.org/2000/svg\" height=\"24px\"viewBox=\"0 0 24 24\"\n",
              "     width=\"24px\">\n",
              "    <g>\n",
              "        <path d=\"M19 3H5c-1.1 0-2 .9-2 2v14c0 1.1.9 2 2 2h14c1.1 0 2-.9 2-2V5c0-1.1-.9-2-2-2zM9 17H7v-7h2v7zm4 0h-2V7h2v10zm4 0h-2v-4h2v4z\"/>\n",
              "    </g>\n",
              "</svg>\n",
              "      </button>\n",
              "    </div>\n",
              "\n",
              "<style>\n",
              "  .colab-df-quickchart {\n",
              "    background-color: #E8F0FE;\n",
              "    border: none;\n",
              "    border-radius: 50%;\n",
              "    cursor: pointer;\n",
              "    display: none;\n",
              "    fill: #1967D2;\n",
              "    height: 32px;\n",
              "    padding: 0 0 0 0;\n",
              "    width: 32px;\n",
              "  }\n",
              "\n",
              "  .colab-df-quickchart:hover {\n",
              "    background-color: #E2EBFA;\n",
              "    box-shadow: 0px 1px 2px rgba(60, 64, 67, 0.3), 0px 1px 3px 1px rgba(60, 64, 67, 0.15);\n",
              "    fill: #174EA6;\n",
              "  }\n",
              "\n",
              "  [theme=dark] .colab-df-quickchart {\n",
              "    background-color: #3B4455;\n",
              "    fill: #D2E3FC;\n",
              "  }\n",
              "\n",
              "  [theme=dark] .colab-df-quickchart:hover {\n",
              "    background-color: #434B5C;\n",
              "    box-shadow: 0px 1px 3px 1px rgba(0, 0, 0, 0.15);\n",
              "    filter: drop-shadow(0px 1px 2px rgba(0, 0, 0, 0.3));\n",
              "    fill: #FFFFFF;\n",
              "  }\n",
              "</style>\n",
              "\n",
              "    <script>\n",
              "      async function quickchart(key) {\n",
              "        const containerElement = document.querySelector('#' + key);\n",
              "        const charts = await google.colab.kernel.invokeFunction(\n",
              "            'suggestCharts', [key], {});\n",
              "      }\n",
              "    </script>\n",
              "\n",
              "      <script>\n",
              "\n",
              "function displayQuickchartButton(domScope) {\n",
              "  let quickchartButtonEl =\n",
              "    domScope.querySelector('#df-8e7f2d6a-772e-4790-886e-60bc46f3e463 button.colab-df-quickchart');\n",
              "  quickchartButtonEl.style.display =\n",
              "    google.colab.kernel.accessAllowed ? 'block' : 'none';\n",
              "}\n",
              "\n",
              "        displayQuickchartButton(document);\n",
              "      </script>\n",
              "      <style>\n",
              "    .colab-df-container {\n",
              "      display:flex;\n",
              "      flex-wrap:wrap;\n",
              "      gap: 12px;\n",
              "    }\n",
              "\n",
              "    .colab-df-convert {\n",
              "      background-color: #E8F0FE;\n",
              "      border: none;\n",
              "      border-radius: 50%;\n",
              "      cursor: pointer;\n",
              "      display: none;\n",
              "      fill: #1967D2;\n",
              "      height: 32px;\n",
              "      padding: 0 0 0 0;\n",
              "      width: 32px;\n",
              "    }\n",
              "\n",
              "    .colab-df-convert:hover {\n",
              "      background-color: #E2EBFA;\n",
              "      box-shadow: 0px 1px 2px rgba(60, 64, 67, 0.3), 0px 1px 3px 1px rgba(60, 64, 67, 0.15);\n",
              "      fill: #174EA6;\n",
              "    }\n",
              "\n",
              "    [theme=dark] .colab-df-convert {\n",
              "      background-color: #3B4455;\n",
              "      fill: #D2E3FC;\n",
              "    }\n",
              "\n",
              "    [theme=dark] .colab-df-convert:hover {\n",
              "      background-color: #434B5C;\n",
              "      box-shadow: 0px 1px 3px 1px rgba(0, 0, 0, 0.15);\n",
              "      filter: drop-shadow(0px 1px 2px rgba(0, 0, 0, 0.3));\n",
              "      fill: #FFFFFF;\n",
              "    }\n",
              "  </style>\n",
              "\n",
              "      <script>\n",
              "        const buttonEl =\n",
              "          document.querySelector('#df-5ac0633e-a18e-4f8c-84b0-5d4af47fc522 button.colab-df-convert');\n",
              "        buttonEl.style.display =\n",
              "          google.colab.kernel.accessAllowed ? 'block' : 'none';\n",
              "\n",
              "        async function convertToInteractive(key) {\n",
              "          const element = document.querySelector('#df-5ac0633e-a18e-4f8c-84b0-5d4af47fc522');\n",
              "          const dataTable =\n",
              "            await google.colab.kernel.invokeFunction('convertToInteractive',\n",
              "                                                     [key], {});\n",
              "          if (!dataTable) return;\n",
              "\n",
              "          const docLinkHtml = 'Like what you see? Visit the ' +\n",
              "            '<a target=\"_blank\" href=https://colab.research.google.com/notebooks/data_table.ipynb>data table notebook</a>'\n",
              "            + ' to learn more about interactive tables.';\n",
              "          element.innerHTML = '';\n",
              "          dataTable['output_type'] = 'display_data';\n",
              "          await google.colab.output.renderOutput(dataTable, element);\n",
              "          const docLink = document.createElement('div');\n",
              "          docLink.innerHTML = docLinkHtml;\n",
              "          element.appendChild(docLink);\n",
              "        }\n",
              "      </script>\n",
              "    </div>\n",
              "  </div>\n"
            ]
          },
          "metadata": {},
          "execution_count": 7
        }
      ]
    },
    {
      "cell_type": "code",
      "source": [
        "target.head()"
      ],
      "metadata": {
        "colab": {
          "base_uri": "https://localhost:8080/"
        },
        "id": "_JXB5dtpBpy0",
        "outputId": "a60dc0a0-93f3-4352-998e-730f465b50aa"
      },
      "execution_count": 8,
      "outputs": [
        {
          "output_type": "execute_result",
          "data": {
            "text/plain": [
              "0    79.99\n",
              "1    61.89\n",
              "2    40.27\n",
              "3    41.05\n",
              "4    44.30\n",
              "Name: Strength, dtype: float64"
            ]
          },
          "metadata": {},
          "execution_count": 8
        }
      ]
    },
    {
      "cell_type": "markdown",
      "source": [
        "Let's save the number of predictors to n_cols since we will need this number when building our network."
      ],
      "metadata": {
        "id": "LUr3YqVXCIbW"
      }
    },
    {
      "cell_type": "code",
      "source": [
        "n_cols = predictors.shape[1]\n",
        "n_cols"
      ],
      "metadata": {
        "colab": {
          "base_uri": "https://localhost:8080/"
        },
        "id": "TXqIol82B0fz",
        "outputId": "fbe53025-6776-427d-d01c-eefe87175abd"
      },
      "execution_count": 9,
      "outputs": [
        {
          "output_type": "execute_result",
          "data": {
            "text/plain": [
              "8"
            ]
          },
          "metadata": {},
          "execution_count": 9
        }
      ]
    },
    {
      "cell_type": "markdown",
      "source": [
        "## **Import Keras**"
      ],
      "metadata": {
        "id": "xazRUaJBC-7L"
      }
    },
    {
      "cell_type": "markdown",
      "source": [
        "### Let's go ahead and import the Keras library"
      ],
      "metadata": {
        "id": "wM0Z54jPDowS"
      }
    },
    {
      "cell_type": "code",
      "source": [
        "import keras"
      ],
      "metadata": {
        "id": "d4WEiLEhChM2"
      },
      "execution_count": 10,
      "outputs": []
    },
    {
      "cell_type": "markdown",
      "source": [
        "As you can see, the TensorFlow backend was used to install the Keras library.\n",
        "\n",
        "Let's import the rest of the packages from the Keras library that we will need to build our regressoin model."
      ],
      "metadata": {
        "id": "0-k55HLID7HC"
      }
    },
    {
      "cell_type": "code",
      "source": [
        "from keras.models import Sequential\n",
        "from keras.layers import Dense"
      ],
      "metadata": {
        "id": "e7ezXiypD4i3"
      },
      "execution_count": 11,
      "outputs": []
    },
    {
      "cell_type": "markdown",
      "source": [
        "## **Build a Neural Network**"
      ],
      "metadata": {
        "id": "CszpDVyFESDY"
      }
    },
    {
      "cell_type": "markdown",
      "source": [
        "Let's define a function that defines our regression model for us so that we can conveniently call it to create our model."
      ],
      "metadata": {
        "id": "44GIaAABEZOk"
      }
    },
    {
      "cell_type": "code",
      "source": [
        "# define regression model\n",
        "def regression_model():\n",
        "    # create model\n",
        "    model = Sequential()\n",
        "    model.add(Dense(10, activation='relu', input_shape=(n_cols,)))\n",
        "    model.add(Dense(1))\n",
        "\n",
        "    # compile model\n",
        "    model.compile(optimizer='adam', loss='mean_squared_error')\n",
        "    return model"
      ],
      "metadata": {
        "id": "Q3C1wfv9ENHH"
      },
      "execution_count": 12,
      "outputs": []
    },
    {
      "cell_type": "markdown",
      "source": [
        "The above function creates a model that has one hidden layer with 10 neurons and a ReLU activation function. It uses the adam optimizer and the mean squared error as the loss function."
      ],
      "metadata": {
        "id": "_wGhhjPUE8Ze"
      }
    },
    {
      "cell_type": "markdown",
      "source": [
        "Let's import scikit-learn in order to randomly split the data into a training and test sets"
      ],
      "metadata": {
        "id": "fRrlXlUzE_nb"
      }
    },
    {
      "cell_type": "code",
      "source": [
        "from sklearn.model_selection import train_test_split"
      ],
      "metadata": {
        "id": "iJPQfApyE0EX"
      },
      "execution_count": 13,
      "outputs": []
    },
    {
      "cell_type": "markdown",
      "source": [
        "Let's split the data into a training and test sets by holding 30% of the data for testing"
      ],
      "metadata": {
        "id": "6tdv9OrVFKOD"
      }
    },
    {
      "cell_type": "code",
      "source": [
        "X_train, X_test, y_train, y_test = train_test_split(predictors, target, test_size=0.3, random_state=42)"
      ],
      "metadata": {
        "id": "Gjv1tvdHFI93"
      },
      "execution_count": 14,
      "outputs": []
    },
    {
      "cell_type": "markdown",
      "source": [
        "## **Train and Test the Network**"
      ],
      "metadata": {
        "id": "6sZ6X_hLFW_D"
      }
    },
    {
      "cell_type": "markdown",
      "source": [
        "Let's call the function now to create our model."
      ],
      "metadata": {
        "id": "BzdxI6AxFeVZ"
      }
    },
    {
      "cell_type": "code",
      "source": [
        "# build the model\n",
        "model = regression_model()"
      ],
      "metadata": {
        "id": "p86qP93xFT-W"
      },
      "execution_count": 15,
      "outputs": []
    },
    {
      "cell_type": "markdown",
      "source": [
        "Next, we will train the model for 50 epochs."
      ],
      "metadata": {
        "id": "WnXsdzxKey3e"
      }
    },
    {
      "cell_type": "code",
      "source": [
        "# fit the model\n",
        "epochs=50\n",
        "model.fit(X_train, y_train, epochs=epochs, verbose=1)"
      ],
      "metadata": {
        "colab": {
          "base_uri": "https://localhost:8080/"
        },
        "id": "frFtpKAUeui2",
        "outputId": "3910d67c-94c0-4028-b39b-65fb70e52939"
      },
      "execution_count": 27,
      "outputs": [
        {
          "output_type": "stream",
          "name": "stdout",
          "text": [
            "Epoch 1/50\n",
            "23/23 [==============================] - 0s 2ms/step - loss: 46.3977\n",
            "Epoch 2/50\n",
            "23/23 [==============================] - 0s 2ms/step - loss: 45.8636\n",
            "Epoch 3/50\n",
            "23/23 [==============================] - 0s 2ms/step - loss: 46.4478\n",
            "Epoch 4/50\n",
            "23/23 [==============================] - 0s 3ms/step - loss: 46.9933\n",
            "Epoch 5/50\n",
            "23/23 [==============================] - 0s 2ms/step - loss: 45.7120\n",
            "Epoch 6/50\n",
            "23/23 [==============================] - 0s 2ms/step - loss: 45.8056\n",
            "Epoch 7/50\n",
            "23/23 [==============================] - 0s 2ms/step - loss: 46.3376\n",
            "Epoch 8/50\n",
            "23/23 [==============================] - 0s 2ms/step - loss: 45.9516\n",
            "Epoch 9/50\n",
            "23/23 [==============================] - 0s 2ms/step - loss: 45.9828\n",
            "Epoch 10/50\n",
            "23/23 [==============================] - 0s 2ms/step - loss: 45.3933\n",
            "Epoch 11/50\n",
            "23/23 [==============================] - 0s 2ms/step - loss: 45.2245\n",
            "Epoch 12/50\n",
            "23/23 [==============================] - 0s 2ms/step - loss: 45.2528\n",
            "Epoch 13/50\n",
            "23/23 [==============================] - 0s 2ms/step - loss: 45.4240\n",
            "Epoch 14/50\n",
            "23/23 [==============================] - 0s 2ms/step - loss: 46.1131\n",
            "Epoch 15/50\n",
            "23/23 [==============================] - 0s 2ms/step - loss: 46.2894\n",
            "Epoch 16/50\n",
            "23/23 [==============================] - 0s 2ms/step - loss: 45.3092\n",
            "Epoch 17/50\n",
            "23/23 [==============================] - 0s 2ms/step - loss: 45.3997\n",
            "Epoch 18/50\n",
            "23/23 [==============================] - 0s 3ms/step - loss: 46.8919\n",
            "Epoch 19/50\n",
            "23/23 [==============================] - 0s 2ms/step - loss: 45.7749\n",
            "Epoch 20/50\n",
            "23/23 [==============================] - 0s 2ms/step - loss: 45.6340\n",
            "Epoch 21/50\n",
            "23/23 [==============================] - 0s 2ms/step - loss: 44.9710\n",
            "Epoch 22/50\n",
            "23/23 [==============================] - 0s 2ms/step - loss: 45.1161\n",
            "Epoch 23/50\n",
            "23/23 [==============================] - 0s 2ms/step - loss: 44.5841\n",
            "Epoch 24/50\n",
            "23/23 [==============================] - 0s 2ms/step - loss: 45.4876\n",
            "Epoch 25/50\n",
            "23/23 [==============================] - 0s 2ms/step - loss: 45.0210\n",
            "Epoch 26/50\n",
            "23/23 [==============================] - 0s 2ms/step - loss: 47.0454\n",
            "Epoch 27/50\n",
            "23/23 [==============================] - 0s 2ms/step - loss: 44.9550\n",
            "Epoch 28/50\n",
            "23/23 [==============================] - 0s 2ms/step - loss: 45.1632\n",
            "Epoch 29/50\n",
            "23/23 [==============================] - 0s 2ms/step - loss: 45.0679\n",
            "Epoch 30/50\n",
            "23/23 [==============================] - 0s 2ms/step - loss: 45.7592\n",
            "Epoch 31/50\n",
            "23/23 [==============================] - 0s 3ms/step - loss: 44.6437\n",
            "Epoch 32/50\n",
            "23/23 [==============================] - 0s 2ms/step - loss: 45.4617\n",
            "Epoch 33/50\n",
            "23/23 [==============================] - 0s 2ms/step - loss: 44.5290\n",
            "Epoch 34/50\n",
            "23/23 [==============================] - 0s 2ms/step - loss: 46.1828\n",
            "Epoch 35/50\n",
            "23/23 [==============================] - 0s 2ms/step - loss: 45.2685\n",
            "Epoch 36/50\n",
            "23/23 [==============================] - 0s 2ms/step - loss: 44.4284\n",
            "Epoch 37/50\n",
            "23/23 [==============================] - 0s 2ms/step - loss: 44.4786\n",
            "Epoch 38/50\n",
            "23/23 [==============================] - 0s 2ms/step - loss: 44.3908\n",
            "Epoch 39/50\n",
            "23/23 [==============================] - 0s 2ms/step - loss: 44.6103\n",
            "Epoch 40/50\n",
            "23/23 [==============================] - 0s 2ms/step - loss: 44.4262\n",
            "Epoch 41/50\n",
            "23/23 [==============================] - 0s 2ms/step - loss: 43.9344\n",
            "Epoch 42/50\n",
            "23/23 [==============================] - 0s 2ms/step - loss: 44.0760\n",
            "Epoch 43/50\n",
            "23/23 [==============================] - 0s 2ms/step - loss: 44.0264\n",
            "Epoch 44/50\n",
            "23/23 [==============================] - 0s 2ms/step - loss: 44.0528\n",
            "Epoch 45/50\n",
            "23/23 [==============================] - 0s 2ms/step - loss: 44.0939\n",
            "Epoch 46/50\n",
            "23/23 [==============================] - 0s 2ms/step - loss: 45.0238\n",
            "Epoch 47/50\n",
            "23/23 [==============================] - 0s 2ms/step - loss: 44.6647\n",
            "Epoch 48/50\n",
            "23/23 [==============================] - 0s 2ms/step - loss: 44.9679\n",
            "Epoch 49/50\n",
            "23/23 [==============================] - 0s 3ms/step - loss: 44.0577\n",
            "Epoch 50/50\n",
            "23/23 [==============================] - 0s 2ms/step - loss: 44.1184\n"
          ]
        },
        {
          "output_type": "execute_result",
          "data": {
            "text/plain": [
              "<keras.callbacks.History at 0x78a2e37c5c00>"
            ]
          },
          "metadata": {},
          "execution_count": 27
        }
      ]
    },
    {
      "cell_type": "markdown",
      "source": [
        "Next we need to evaluate the model on the test data."
      ],
      "metadata": {
        "id": "-5-_ABW1gBud"
      }
    },
    {
      "cell_type": "code",
      "source": [
        "loss_val = model.evaluate(X_test, y_test)\n",
        "y_pred = model.predict(X_test)\n",
        "loss_val"
      ],
      "metadata": {
        "colab": {
          "base_uri": "https://localhost:8080/"
        },
        "id": "xJCTrPcCfU1A",
        "outputId": "78c85ee2-f963-4109-b329-ff9f439a992e"
      },
      "execution_count": 28,
      "outputs": [
        {
          "output_type": "stream",
          "name": "stdout",
          "text": [
            "10/10 [==============================] - 0s 2ms/step - loss: 56.1155\n",
            "10/10 [==============================] - 0s 2ms/step\n"
          ]
        },
        {
          "output_type": "execute_result",
          "data": {
            "text/plain": [
              "56.115543365478516"
            ]
          },
          "metadata": {},
          "execution_count": 28
        }
      ]
    },
    {
      "cell_type": "markdown",
      "source": [
        "Now we need to compute the mean squared error between the predicted concrete strength and the actual concrete strength.\n",
        "\n",
        "Let's import the mean_squared_error function from Scikit-learn."
      ],
      "metadata": {
        "id": "64YVW9oVgc9X"
      }
    },
    {
      "cell_type": "code",
      "source": [
        "from sklearn.metrics import mean_squared_error"
      ],
      "metadata": {
        "id": "0aq3FU1PgLme"
      },
      "execution_count": 22,
      "outputs": []
    },
    {
      "cell_type": "code",
      "source": [
        "mean_square_error = mean_squared_error(y_test, y_pred)\n",
        "mean = np.mean(mean_square_error)\n",
        "standard_deviation = np.std(mean_square_error)\n",
        "print(mean, standard_deviation)"
      ],
      "metadata": {
        "colab": {
          "base_uri": "https://localhost:8080/"
        },
        "id": "Uoadgtxrgk_W",
        "outputId": "f3af7dae-2a18-44b4-95bd-1f3ed5d00b43"
      },
      "execution_count": 29,
      "outputs": [
        {
          "output_type": "stream",
          "name": "stdout",
          "text": [
            "56.11553774387635 0.0\n"
          ]
        }
      ]
    },
    {
      "cell_type": "markdown",
      "source": [
        "Create a list of 50 mean squared errors and report mean and the standard deviation of the mean squared errors."
      ],
      "metadata": {
        "id": "9ZkcQKLfgpi8"
      }
    },
    {
      "cell_type": "code",
      "source": [
        "total_mean_squared_errors = 50\n",
        "epochs = 50\n",
        "mean_squared_errors = []\n",
        "\n",
        "for i in range(0, total_mean_squared_errors):\n",
        "    X_train, X_test, y_train, y_test = train_test_split(predictors, target, test_size=0.3, random_state=i)\n",
        "    model.fit(X_train, y_train, epochs=epochs, verbose=0)\n",
        "    MSE = model.evaluate(X_test, y_test, verbose=0)\n",
        "    print(\"MSE \"+str(i+1)+\": \"+str(MSE))\n",
        "    y_pred = model.predict(X_test)\n",
        "    mean_square_error = mean_squared_error(y_test, y_pred)\n",
        "    mean_squared_errors.append(mean_square_error)\n",
        "\n",
        "mean_squared_errors = np.array(mean_squared_errors)\n",
        "mean = np.mean(mean_squared_errors)\n",
        "standard_deviation = np.std(mean_squared_errors)\n",
        "\n",
        "print('\\n')\n",
        "print(\"Below is the mean and standard deviation of \" +str(total_mean_squared_errors) + \" mean squared errors without normalized data. Total number of epochs for each training is: \" +str(epochs) + \"\\n\")\n",
        "print(\"Mean: \"+str(mean))\n",
        "print(\"Standard Deviation: \"+str(standard_deviation))"
      ],
      "metadata": {
        "colab": {
          "base_uri": "https://localhost:8080/"
        },
        "id": "As-9AxyVgnUO",
        "outputId": "5e862d81-97ae-454b-87a7-0f0c39d0dc4c"
      },
      "execution_count": 30,
      "outputs": [
        {
          "output_type": "stream",
          "name": "stdout",
          "text": [
            "MSE 1: 47.35017013549805\n",
            "10/10 [==============================] - 0s 2ms/step\n",
            "MSE 2: 51.573726654052734\n",
            "10/10 [==============================] - 0s 2ms/step\n",
            "MSE 3: 41.469993591308594\n",
            "10/10 [==============================] - 0s 2ms/step\n",
            "MSE 4: 47.35120391845703\n",
            "10/10 [==============================] - 0s 3ms/step\n",
            "MSE 5: 47.785526275634766\n",
            "10/10 [==============================] - 0s 2ms/step\n",
            "MSE 6: 47.46910858154297\n",
            "10/10 [==============================] - 0s 2ms/step\n",
            "MSE 7: 54.25178146362305\n",
            "10/10 [==============================] - 0s 2ms/step\n",
            "MSE 8: 47.24246597290039\n",
            "10/10 [==============================] - 0s 2ms/step\n",
            "MSE 9: 44.12272644042969\n",
            "10/10 [==============================] - 0s 2ms/step\n",
            "MSE 10: 47.77294158935547\n",
            "10/10 [==============================] - 0s 2ms/step\n",
            "MSE 11: 44.452125549316406\n",
            "10/10 [==============================] - 0s 2ms/step\n",
            "MSE 12: 42.23789978027344\n",
            "10/10 [==============================] - 0s 2ms/step\n",
            "MSE 13: 51.19456481933594\n",
            "10/10 [==============================] - 0s 2ms/step\n",
            "MSE 14: 52.01144027709961\n",
            "10/10 [==============================] - 0s 2ms/step\n",
            "MSE 15: 43.72703170776367\n",
            "10/10 [==============================] - 0s 2ms/step\n",
            "MSE 16: 40.19938659667969\n",
            "10/10 [==============================] - 0s 2ms/step\n",
            "MSE 17: 47.250709533691406\n",
            "10/10 [==============================] - 0s 2ms/step\n",
            "MSE 18: 46.35413360595703\n",
            "10/10 [==============================] - 0s 2ms/step\n",
            "MSE 19: 43.890872955322266\n",
            "10/10 [==============================] - 0s 2ms/step\n",
            "MSE 20: 45.367225646972656\n",
            "10/10 [==============================] - 0s 2ms/step\n",
            "MSE 21: 43.42091751098633\n",
            "10/10 [==============================] - 0s 2ms/step\n",
            "MSE 22: 47.778141021728516\n",
            "10/10 [==============================] - 0s 2ms/step\n",
            "MSE 23: 42.54100799560547\n",
            "10/10 [==============================] - 0s 2ms/step\n",
            "MSE 24: 43.225677490234375\n",
            "10/10 [==============================] - 0s 3ms/step\n",
            "MSE 25: 47.9857177734375\n",
            "10/10 [==============================] - 0s 2ms/step\n",
            "MSE 26: 44.87602233886719\n",
            "10/10 [==============================] - 0s 2ms/step\n",
            "MSE 27: 45.28645706176758\n",
            "10/10 [==============================] - 0s 2ms/step\n",
            "MSE 28: 40.59392547607422\n",
            "10/10 [==============================] - 0s 2ms/step\n",
            "MSE 29: 50.138790130615234\n",
            "10/10 [==============================] - 0s 2ms/step\n",
            "MSE 30: 47.88935470581055\n",
            "10/10 [==============================] - 0s 2ms/step\n",
            "MSE 31: 47.49143600463867\n",
            "10/10 [==============================] - 0s 2ms/step\n",
            "MSE 32: 39.23905944824219\n",
            "10/10 [==============================] - 0s 2ms/step\n",
            "MSE 33: 42.438228607177734\n",
            "10/10 [==============================] - 0s 2ms/step\n",
            "MSE 34: 45.618141174316406\n",
            "10/10 [==============================] - 0s 2ms/step\n",
            "MSE 35: 43.184104919433594\n",
            "10/10 [==============================] - 0s 2ms/step\n",
            "MSE 36: 49.724876403808594\n",
            "10/10 [==============================] - 0s 2ms/step\n",
            "MSE 37: 44.856563568115234\n",
            "10/10 [==============================] - 0s 2ms/step\n",
            "MSE 38: 45.640987396240234\n",
            "10/10 [==============================] - 0s 3ms/step\n",
            "MSE 39: 46.710575103759766\n",
            "10/10 [==============================] - 0s 2ms/step\n",
            "MSE 40: 36.79850387573242\n",
            "10/10 [==============================] - 0s 2ms/step\n",
            "MSE 41: 52.1147346496582\n",
            "10/10 [==============================] - 0s 3ms/step\n",
            "MSE 42: 42.566162109375\n",
            "10/10 [==============================] - 0s 2ms/step\n",
            "MSE 43: 46.72089767456055\n",
            "10/10 [==============================] - 0s 2ms/step\n",
            "MSE 44: 52.61497497558594\n",
            "10/10 [==============================] - 0s 2ms/step\n",
            "MSE 45: 49.073402404785156\n",
            "10/10 [==============================] - 0s 2ms/step\n",
            "MSE 46: 48.39643859863281\n",
            "10/10 [==============================] - 0s 2ms/step\n",
            "MSE 47: 48.998077392578125\n",
            "10/10 [==============================] - 0s 2ms/step\n",
            "MSE 48: 46.19109344482422\n",
            "10/10 [==============================] - 0s 2ms/step\n",
            "MSE 49: 46.68854522705078\n",
            "10/10 [==============================] - 0s 2ms/step\n",
            "MSE 50: 49.02178955078125\n",
            "10/10 [==============================] - 0s 2ms/step\n",
            "\n",
            "\n",
            "Below is the mean and standard deviation of 50 mean squared errors without normalized data. Total number of epochs for each training is: 50\n",
            "\n",
            "Mean: 46.21799283424649\n",
            "Standard Deviation: 3.5807950646449873\n"
          ]
        }
      ]
    },
    {
      "cell_type": "code",
      "source": [],
      "metadata": {
        "id": "9Rxx-_5gjZDB"
      },
      "execution_count": null,
      "outputs": []
    }
  ]
}